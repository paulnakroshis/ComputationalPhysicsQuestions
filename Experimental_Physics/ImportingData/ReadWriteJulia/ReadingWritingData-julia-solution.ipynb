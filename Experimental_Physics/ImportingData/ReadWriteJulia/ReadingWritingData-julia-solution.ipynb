{
 "cells": [
  {
   "cell_type": "markdown",
   "metadata": {
    "nteract": {
     "transient": {
      "deleting": false
     }
    }
   },
   "source": [
    "# Reading and Writing data files using CSV.jl"
   ]
  },
  {
   "cell_type": "markdown",
   "metadata": {},
   "source": [
    "<div class=\"alert alert-info\" role=\"alert\">\n",
    "Estimated time to complete: 1 -2 hours\n",
    "</div>"
   ]
  },
  {
   "cell_type": "code",
   "execution_count": 1,
   "metadata": {},
   "outputs": [],
   "source": [
    "using DelimitedFiles\n",
    "using DataFrames\n",
    "using CSV\n",
    "using Random\n",
    "using Distributions\n",
    "using Plots"
   ]
  },
  {
   "cell_type": "markdown",
   "metadata": {
    "nteract": {
     "transient": {
      "deleting": false
     }
    }
   },
   "source": [
    "## Making some fake data and writing it out to a data file\n",
    "### Create four arrays using Julia: <br>\n",
    "a. an array of times, $t$,  from 0.0 up to and including 10.0 seconds, in steps of 0.5 seconds<br>\n",
    "b. an array of Gaussian disributed time uncertainties, $\\delta t$, with $\\sigma = 0.2\\;\\mathrm{s}$. <br>\n",
    "c. an array of positions, $y$, described by $y = \\frac{1}{2} g t^2$, where $g = 9.80 \\pm 0.01\\;\\mathrm{m/s}^2$<br>\n",
    "d. an array of position uncertainties consistent with the time uncertainties, and consistent with the uncertainty on $g$. For this last part, show explicity in a markdown cell (using $\\LaTeX$ to typeset the mathematics) how to compute this uncertainty in $y$<br>"
   ]
  },
  {
   "cell_type": "code",
   "execution_count": 2,
   "metadata": {
    "nteract": {
     "transient": {
      "deleting": false
     }
    },
    "tags": []
   },
   "outputs": [],
   "source": [
    "# Your code here"
   ]
  },
  {
   "cell_type": "code",
   "execution_count": 3,
   "metadata": {},
   "outputs": [],
   "source": [
    "σ = 0.20\n",
    "μ = 0.00 \n",
    "g = 9.80\n",
    "δg = 0.01\n",
    "t = collect(0:0.5:10.0)\n",
    "δt = abs.(rand(Normal(μ , σ), length(t)))\n",
    "y = round.(0.5*g*t.^2; digits=3);"
   ]
  },
  {
   "cell_type": "markdown",
   "metadata": {},
   "source": [
    "<div class=\"alert alert-success\" role=\"alert\">\n",
    "In this markdown cell, show explicity (using $\\LaTeX$ to typeset the mathematics) how to compute the uncertainty in $y$<br>\n",
    "</div>"
   ]
  },
  {
   "cell_type": "markdown",
   "metadata": {},
   "source": [
    "<div class=\"alert alert-success\" role=\"alert\">\n",
    "To compute the uncertainty in $y$, we use the differential error propagation method where\n",
    "\n",
    "$$ \\delta y \\approx \\sqrt{ \\left(\\frac{\\partial y}{\\partial g}\\delta g\\right)^2 + \\left(\\frac{\\partial y}{\\partial t}\\delta t\\right)^2 }$$\n",
    "\n",
    "Computing the partial derivatives and substituting, we want to compute\n",
    "\n",
    "$$ \\delta y \\approx \\sqrt{ \\left( \\frac{t^2}{2}\\;\\delta g \\right)^2 + \\left( gt \\;\\delta t \\right)^2 }, $$\n",
    "\n",
    "but, since the function for $y$ is a simple product of powers, we could have used the fact that this expression simplifies to \n",
    "\n",
    "$$ \\delta y \\approx  y \\, \\sqrt{ \\left( \\frac{\\delta g}{g} \\right)^2 + \\left( 2\\frac{\\delta t}{t} \\right)^2 }. $$\n",
    "\n",
    "I will use this second form to compute $\\delta y$. Notice that if I do the sensible thing using Julia, I have a problem when $t=0$:\n",
    "</div>"
   ]
  },
  {
   "cell_type": "code",
   "execution_count": 4,
   "metadata": {},
   "outputs": [
    {
     "data": {
      "text/plain": [
       "21-element Vector{Float64}:\n",
       " NaN\n",
       "   1.4866358886774618\n",
       "   1.5258830644926438\n",
       "   0.38278976100769385\n",
       "   4.418933996498686\n",
       "   0.9743474686273895\n",
       "   5.488797789186764\n",
       "   8.26898088806218\n",
       "   7.485399611730478\n",
       "  13.652302294466196\n",
       "   1.511607536502671\n",
       "   6.519229344703498\n",
       "  15.111972672636064\n",
       "   8.135681599160447\n",
       "   3.6435536821719925\n",
       "   2.364859211764191\n",
       "   0.7758409132403967\n",
       "   3.838710216163981\n",
       "   1.652990230843701\n",
       "   2.584929581743295\n",
       "   5.00236838322454"
      ]
     },
     "execution_count": 4,
     "metadata": {},
     "output_type": "execute_result"
    }
   ],
   "source": [
    "# now compute δy (one line of code; be careful to use the dot syntax properly)\n",
    "#\n",
    "δy = y.*sqrt.( (δg/g).^2 .+ (2*δt ./t).^2 )"
   ]
  },
  {
   "cell_type": "markdown",
   "metadata": {},
   "source": [
    "<div class=\"alert alert-success\" role=\"alert\">\n",
    "The fix for this is to compute $\\delta y$ forgoing the first element, and then manually inserting 0.0 for the first value of δy when done. You can accomplish this in two lines of code; in the second line, you will want to use the pushfirst! command to insert 0.0 for δy.\n",
    "</div>"
   ]
  },
  {
   "cell_type": "code",
   "execution_count": 5,
   "metadata": {},
   "outputs": [],
   "source": [
    "# your code here\n",
    "δy = y[2:end ] .*sqrt.( (δg/g).^2 .+ (2*δt[2:end]./t[2:end]).^2 )\n",
    "δy = pushfirst!(δy, 0.0);  # manually insert 0.0 before array index 0 of δy"
   ]
  },
  {
   "cell_type": "markdown",
   "metadata": {
    "jupyter": {
     "outputs_hidden": true,
     "source_hidden": false
    },
    "nteract": {
     "transient": {
      "deleting": false
     }
    }
   },
   "source": [
    "### Write out the data using DelimitedFiles\n",
    "Write the data out:<br>\n",
    "- in four columns labeled t, dt, y, dy\n",
    "- the first row is a header row\n",
    "- the second row specifies the units\n",
    "- the file to write should be called fake_free_fall.txt. \n",
    "- write all numerical values with only two decimal places\n",
    "\n",
    "See [DelimitedFiles.jl documentation](https://docs.julialang.org/en/v1/stdlib/DelimitedFiles/) for info about the function *writedlm(), and see [Storing output on a file](https://www.geeksforgeeks.org/storing-output-on-a-file-in-julia/) to read about the *write()* command; you will use this to write out the header lines.\n",
    "The first three lines of your file should look like"
   ]
  },
  {
   "cell_type": "markdown",
   "metadata": {},
   "source": [
    "| t   | dt |  y   | dy |\n",
    "| :--- | :-----------| :--- | :-----------|\n",
    "|   s     |      s       |    m     |      m       |\n",
    "| 0.00     | 0.10 | 0.00 | 0.00 |"
   ]
  },
  {
   "cell_type": "markdown",
   "metadata": {},
   "source": [
    "##### Other good references about file i/o\n",
    "[Introducing Julia: Working with text files](https://en.wikibooks.org/wiki/Introducing_Julia/Working_with_text_files) </br>\n",
    "[Julia Discourse: Reading text or csv files](https://discourse.julialang.org/t/reading-text-or-csv-files-and-assigning-values-to-variable-names/50610)</br>"
   ]
  },
  {
   "cell_type": "code",
   "execution_count": 6,
   "metadata": {},
   "outputs": [],
   "source": [
    "# your code here!\n",
    "open(\"fake_free_fall.txt\", \"w\") do io\n",
    "    write(io, \"t  dt  y  dy\\n\") \n",
    "    write(io, \"s   s  m   m\\n\")\n",
    "    writedlm(io, round.([t δt y δy], digits=3))\n",
    "end"
   ]
  },
  {
   "cell_type": "markdown",
   "metadata": {},
   "source": [
    "<div class=\"alert alert-success\" role=\"alert\">\n",
    "Another option with Julia is to bundle the vectors into a dataframe and then use the CSV.jl package to write out the dataframe to a file. When you do this, the file will automatically have the column names as the first line in the file. I will leave this here as a piece of information for you; run the cell and then use jupyterlab's file browser to look at the file.\n",
    "</div>"
   ]
  },
  {
   "cell_type": "code",
   "execution_count": 7,
   "metadata": {},
   "outputs": [
    {
     "data": {
      "text/plain": [
       "\"fake_data.txt\""
      ]
     },
     "execution_count": 7,
     "metadata": {},
     "output_type": "execute_result"
    }
   ],
   "source": [
    "df = DataFrame(time=round.(t, digits=2), dt=δt, y=y, dy=δy )\n",
    "CSV.write(\"fake_data.txt\", round.(df, digits=2); delim=',')"
   ]
  },
  {
   "cell_type": "markdown",
   "metadata": {},
   "source": [
    "### Reading in a data file using readdlm()\n",
    "For straighforward data files (no missing values or strange type switching), readdlm() is a simple way to read in\n",
    "data that is saved as a text or a csv (comma separated value) file. This means that you could use a simple spreadsheet when\n",
    "manually recording data and save it as .txt or .csv and it will be easy to read. \n",
    "\n",
    "Use readdlm() to read the data file fake_free_fall.txt; read the data directly into an array called *data*.\n",
    "When you do read the file, you will see that you obtain the two header lines as well as the numerical data, \n",
    "so add a code cell after the initial import to extract only the needed numerical data into vectors named: t, dt, y, dy. "
   ]
  },
  {
   "cell_type": "code",
   "execution_count": 8,
   "metadata": {},
   "outputs": [
    {
     "data": {
      "text/plain": [
       "23×4 Matrix{Any}:\n",
       "   \"t\"   \"dt\"     \"y\"     \"dy\"\n",
       "   \"s\"   \"s\"      \"m\"     \"m\"\n",
       "  0.0   0.109    0.0     0.0\n",
       "  0.5   0.303    1.225   1.487\n",
       "  1.0   0.156    4.9     1.526\n",
       "  1.5   0.026   11.025   0.383\n",
       "  2.0   0.225   19.6     4.419\n",
       "  2.5   0.04    30.625   0.974\n",
       "  3.0   0.187   44.1     5.489\n",
       "  3.5   0.241   60.025   8.269\n",
       "  4.0   0.191   78.4     7.485\n",
       "  4.5   0.31    99.225  13.652\n",
       "  5.0   0.031  122.5     1.512\n",
       "  5.5   0.121  148.225   6.519\n",
       "  6.0   0.257  176.4    15.112\n",
       "  6.5   0.128  207.025   8.136\n",
       "  7.0   0.053  240.1     3.644\n",
       "  7.5   0.032  275.625   2.365\n",
       "  8.0   0.009  313.6     0.776\n",
       "  8.5   0.046  354.025   3.839\n",
       "  9.0   0.018  396.9     1.653\n",
       "  9.5   0.027  442.225   2.585\n",
       " 10.0   0.051  490.0     5.002"
      ]
     },
     "execution_count": 8,
     "metadata": {},
     "output_type": "execute_result"
    }
   ],
   "source": [
    "data = readdlm(\"fake_free_fall.txt\")"
   ]
  },
  {
   "cell_type": "code",
   "execution_count": 9,
   "metadata": {},
   "outputs": [],
   "source": [
    "# Extract the numerical values from each column into t, dt, y, dy:"
   ]
  },
  {
   "cell_type": "code",
   "execution_count": 10,
   "metadata": {},
   "outputs": [],
   "source": [
    "t =  data[3:end,1]\n",
    "dt = data[3:end,2]\n",
    "y =  data[3:end,3]\n",
    "dy = data[3:end,4];"
   ]
  },
  {
   "cell_type": "markdown",
   "metadata": {},
   "source": [
    "### Now plot the data\n",
    "Make a plot of $y$ vs $t$, and include error bars on each point. figure *size* 800 px by 500 px, and the xguidefontsize=14, xtickfontsize=12. Similarly for the y-axis labelsize and ticklabelsize. Use Julia's Plots package with the GR backend. You will want to use the Measures package to set a margin so that the axes labels are not cut off."
   ]
  },
  {
   "cell_type": "code",
   "execution_count": 11,
   "metadata": {},
   "outputs": [],
   "source": [
    "# needed imports and plot size setup for free:\n",
    "using Plots\n",
    "using LaTeXStrings\n",
    "using Measures\n",
    "gr()\n",
    "plot(size=(800,500), margin=5mm);  # remove the margin=5mm (and the semicolon) to see why I put this here."
   ]
  },
  {
   "cell_type": "code",
   "execution_count": 12,
   "metadata": {},
   "outputs": [
    {
     "data": {
      "image/svg+xml": [
       "<?xml version=\"1.0\" encoding=\"utf-8\"?>\n",
       "<svg xmlns=\"http://www.w3.org/2000/svg\" xmlns:xlink=\"http://www.w3.org/1999/xlink\" width=\"800\" height=\"500\" viewBox=\"0 0 3200 2000\">\n",
       "<defs>\n",
       "  <clipPath id=\"clip030\">\n",
       "    <rect x=\"0\" y=\"0\" width=\"3200\" height=\"2000\"/>\n",
       "  </clipPath>\n",
       "</defs>\n",
       "<path clip-path=\"url(#clip030)\" d=\"\n",
       "M0 2000 L3200 2000 L3200 0 L0 0  Z\n",
       "  \" fill=\"#ffffff\" fill-rule=\"evenodd\" fill-opacity=\"1\"/>\n",
       "<defs>\n",
       "  <clipPath id=\"clip031\">\n",
       "    <rect x=\"640\" y=\"0\" width=\"2241\" height=\"2000\"/>\n",
       "  </clipPath>\n",
       "</defs>\n",
       "<path clip-path=\"url(#clip030)\" d=\"\n",
       "M343.161 1737.41 L3089.76 1737.41 L3089.76 110.236 L343.161 110.236  Z\n",
       "  \" fill=\"#ffffff\" fill-rule=\"evenodd\" fill-opacity=\"1\"/>\n",
       "<defs>\n",
       "  <clipPath id=\"clip032\">\n",
       "    <rect x=\"343\" y=\"110\" width=\"2748\" height=\"1628\"/>\n",
       "  </clipPath>\n",
       "</defs>\n",
       "<polyline clip-path=\"url(#clip032)\" style=\"stroke:#000000; stroke-linecap:butt; stroke-linejoin:round; stroke-width:2; stroke-opacity:0.1; fill:none\" points=\"\n",
       "  448.693,1737.41 448.693,110.236 \n",
       "  \"/>\n",
       "<polyline clip-path=\"url(#clip032)\" style=\"stroke:#000000; stroke-linecap:butt; stroke-linejoin:round; stroke-width:2; stroke-opacity:0.1; fill:none\" points=\"\n",
       "  1086.28,1737.41 1086.28,110.236 \n",
       "  \"/>\n",
       "<polyline clip-path=\"url(#clip032)\" style=\"stroke:#000000; stroke-linecap:butt; stroke-linejoin:round; stroke-width:2; stroke-opacity:0.1; fill:none\" points=\"\n",
       "  1723.86,1737.41 1723.86,110.236 \n",
       "  \"/>\n",
       "<polyline clip-path=\"url(#clip032)\" style=\"stroke:#000000; stroke-linecap:butt; stroke-linejoin:round; stroke-width:2; stroke-opacity:0.1; fill:none\" points=\"\n",
       "  2361.44,1737.41 2361.44,110.236 \n",
       "  \"/>\n",
       "<polyline clip-path=\"url(#clip032)\" style=\"stroke:#000000; stroke-linecap:butt; stroke-linejoin:round; stroke-width:2; stroke-opacity:0.1; fill:none\" points=\"\n",
       "  2999.02,1737.41 2999.02,110.236 \n",
       "  \"/>\n",
       "<polyline clip-path=\"url(#clip030)\" style=\"stroke:#000000; stroke-linecap:butt; stroke-linejoin:round; stroke-width:4; stroke-opacity:1; fill:none\" points=\"\n",
       "  343.161,1737.41 3089.76,1737.41 \n",
       "  \"/>\n",
       "<polyline clip-path=\"url(#clip030)\" style=\"stroke:#000000; stroke-linecap:butt; stroke-linejoin:round; stroke-width:4; stroke-opacity:1; fill:none\" points=\"\n",
       "  448.693,1737.41 448.693,1717.88 \n",
       "  \"/>\n",
       "<polyline clip-path=\"url(#clip030)\" style=\"stroke:#000000; stroke-linecap:butt; stroke-linejoin:round; stroke-width:4; stroke-opacity:1; fill:none\" points=\"\n",
       "  1086.28,1737.41 1086.28,1717.88 \n",
       "  \"/>\n",
       "<polyline clip-path=\"url(#clip030)\" style=\"stroke:#000000; stroke-linecap:butt; stroke-linejoin:round; stroke-width:4; stroke-opacity:1; fill:none\" points=\"\n",
       "  1723.86,1737.41 1723.86,1717.88 \n",
       "  \"/>\n",
       "<polyline clip-path=\"url(#clip030)\" style=\"stroke:#000000; stroke-linecap:butt; stroke-linejoin:round; stroke-width:4; stroke-opacity:1; fill:none\" points=\"\n",
       "  2361.44,1737.41 2361.44,1717.88 \n",
       "  \"/>\n",
       "<polyline clip-path=\"url(#clip030)\" style=\"stroke:#000000; stroke-linecap:butt; stroke-linejoin:round; stroke-width:4; stroke-opacity:1; fill:none\" points=\"\n",
       "  2999.02,1737.41 2999.02,1717.88 \n",
       "  \"/>\n",
       "<g clip-path=\"url(#clip030)\">\n",
       "<text style=\"fill:#000000; fill-opacity:1; font-family:Times New Roman,TimesNewRoman,Times,Baskerville,Georgia,serif; font-size:79px; text-anchor:middle;\" transform=\"rotate(0, 448.693, 1825.41)\" x=\"448.693\" y=\"1825.41\">0.0</text>\n",
       "</g>\n",
       "<g clip-path=\"url(#clip030)\">\n",
       "<text style=\"fill:#000000; fill-opacity:1; font-family:Times New Roman,TimesNewRoman,Times,Baskerville,Georgia,serif; font-size:79px; text-anchor:middle;\" transform=\"rotate(0, 1086.28, 1825.41)\" x=\"1086.28\" y=\"1825.41\">2.5</text>\n",
       "</g>\n",
       "<g clip-path=\"url(#clip030)\">\n",
       "<text style=\"fill:#000000; fill-opacity:1; font-family:Times New Roman,TimesNewRoman,Times,Baskerville,Georgia,serif; font-size:79px; text-anchor:middle;\" transform=\"rotate(0, 1723.86, 1825.41)\" x=\"1723.86\" y=\"1825.41\">5.0</text>\n",
       "</g>\n",
       "<g clip-path=\"url(#clip030)\">\n",
       "<text style=\"fill:#000000; fill-opacity:1; font-family:Times New Roman,TimesNewRoman,Times,Baskerville,Georgia,serif; font-size:79px; text-anchor:middle;\" transform=\"rotate(0, 2361.44, 1825.41)\" x=\"2361.44\" y=\"1825.41\">7.5</text>\n",
       "</g>\n",
       "<g clip-path=\"url(#clip030)\">\n",
       "<text style=\"fill:#000000; fill-opacity:1; font-family:Times New Roman,TimesNewRoman,Times,Baskerville,Georgia,serif; font-size:79px; text-anchor:middle;\" transform=\"rotate(0, 2999.02, 1825.41)\" x=\"2999.02\" y=\"1825.41\">10.0</text>\n",
       "</g>\n",
       "<path clip-path=\"url(#clip030)\" d=\"M1666.28 1882.43 Q1666.28 1883.57 1665.74 1883.86 Q1665.21 1884.11 1663.74 1884.11 L1655.87 1884.11 L1649.64 1908.86 Q1649.14 1911.04 1649.14 1912.88 Q1649.14 1914.93 1649.76 1915.83 Q1650.41 1916.73 1651.77 1916.73 Q1654.43 1916.73 1657.3 1914.32 Q1660.21 1911.9 1662.67 1906 Q1663 1905.22 1663.16 1905.05 Q1663.37 1904.85 1663.9 1904.85 Q1664.92 1904.85 1664.92 1905.67 Q1664.92 1905.95 1664.35 1907.27 Q1663.82 1908.58 1662.63 1910.5 Q1661.48 1912.43 1659.96 1914.23 Q1658.49 1916.04 1656.23 1917.35 Q1653.98 1918.62 1651.56 1918.62 Q1648.16 1918.62 1645.99 1916.45 Q1643.86 1914.28 1643.86 1910.87 Q1643.86 1909.77 1644.72 1906.24 Q1645.58 1902.68 1650.25 1884.11 L1642.83 1884.11 Q1641.81 1884.11 1641.4 1884.07 Q1641.03 1884.03 1640.74 1883.82 Q1640.49 1883.57 1640.49 1883.08 Q1640.49 1882.3 1640.82 1881.98 Q1641.15 1881.61 1641.56 1881.57 Q1642.01 1881.48 1643.04 1881.48 L1650.91 1881.48 L1654.19 1868.16 Q1654.51 1866.85 1655.33 1866.11 Q1656.19 1865.33 1656.69 1865.25 Q1657.18 1865.13 1657.55 1865.13 Q1658.65 1865.13 1659.31 1865.74 Q1659.96 1866.32 1659.96 1867.38 Q1659.96 1867.96 1656.52 1881.48 L1663.9 1881.48 Q1664.84 1881.48 1665.21 1881.52 Q1665.62 1881.57 1665.95 1881.77 Q1666.28 1881.98 1666.28 1882.43 Z\" fill=\"#000000\" fill-rule=\"evenodd\" fill-opacity=\"1\" /><path clip-path=\"url(#clip030)\" d=\"M1688.98 1896.69 Q1688.98 1882.51 1694.27 1871.07 Q1696.53 1866.28 1699.68 1862.26 Q1702.84 1858.24 1704.93 1856.48 Q1707.02 1854.72 1707.59 1854.72 Q1708.41 1854.72 1708.45 1855.54 Q1708.45 1855.95 1707.35 1856.97 Q1693.82 1870.74 1693.86 1896.69 Q1693.86 1922.72 1707.02 1935.96 Q1708.45 1937.39 1708.45 1937.84 Q1708.45 1938.66 1707.59 1938.66 Q1707.02 1938.66 1705.01 1936.98 Q1703 1935.3 1699.89 1931.45 Q1696.77 1927.6 1694.52 1922.88 Q1688.98 1911.45 1688.98 1896.69 Z\" fill=\"#000000\" fill-rule=\"evenodd\" fill-opacity=\"1\" /><path clip-path=\"url(#clip030)\" d=\"M1752.13 1887.8 Q1752.13 1890.09 1750.98 1891.32 Q1749.83 1892.51 1748.27 1892.51 Q1747 1892.51 1746.31 1891.77 Q1745.65 1891.03 1745.65 1890.05 Q1745.65 1888.62 1746.8 1887.47 Q1747.99 1886.32 1749.71 1886.28 Q1749.13 1884.76 1747.62 1883.86 Q1746.1 1882.92 1744.75 1882.67 Q1743.44 1882.43 1742.12 1882.43 Q1739.54 1882.43 1737.57 1883.25 Q1735.61 1884.07 1734.62 1885.34 Q1733.64 1886.57 1733.19 1887.76 Q1732.74 1888.94 1732.74 1889.97 Q1732.74 1890.87 1732.94 1891.61 Q1733.19 1892.3 1733.76 1892.84 Q1734.34 1893.33 1734.75 1893.66 Q1735.2 1893.99 1736.18 1894.27 Q1737.16 1894.56 1737.57 1894.68 Q1737.98 1894.76 1739.13 1895.01 Q1741.51 1895.5 1742.58 1895.79 Q1743.64 1896.04 1745.03 1896.73 Q1746.47 1897.43 1747.53 1898.54 Q1750.12 1901.12 1750.12 1904.68 Q1750.12 1906 1749.67 1907.59 Q1749.26 1909.19 1748.07 1911.2 Q1746.88 1913.21 1745.08 1914.81 Q1743.27 1916.41 1740.16 1917.51 Q1737.08 1918.62 1733.23 1918.62 Q1727.86 1918.62 1724.54 1916.37 Q1721.22 1914.07 1721.22 1910.46 Q1721.22 1907.84 1722.65 1906.41 Q1724.09 1904.93 1725.93 1904.93 Q1727.33 1904.93 1728.19 1905.71 Q1729.05 1906.45 1729.05 1907.84 Q1729.05 1909.73 1727.53 1911.16 Q1726.02 1912.59 1723.76 1912.31 Q1725.69 1916.73 1733.31 1916.73 Q1736.18 1916.73 1738.39 1916 Q1740.65 1915.22 1741.88 1914.15 Q1743.15 1913.05 1743.97 1911.69 Q1744.79 1910.34 1745.03 1909.32 Q1745.32 1908.29 1745.32 1907.51 Q1745.32 1906.16 1744.79 1905.13 Q1744.26 1904.11 1743.52 1903.54 Q1742.82 1902.92 1741.47 1902.43 Q1740.16 1901.9 1739.21 1901.69 Q1738.27 1901.49 1736.59 1901.16 Q1735.81 1900.99 1735.32 1900.91 Q1734.83 1900.79 1733.8 1900.46 Q1732.82 1900.09 1732.12 1899.72 Q1731.47 1899.36 1730.61 1898.7 Q1729.75 1898.04 1729.21 1897.26 Q1728.68 1896.49 1728.31 1895.34 Q1727.94 1894.19 1727.94 1892.84 Q1727.94 1891.61 1728.31 1890.13 Q1728.72 1888.66 1729.75 1886.94 Q1730.81 1885.21 1732.33 1883.82 Q1733.84 1882.43 1736.39 1881.52 Q1738.97 1880.58 1742.12 1880.58 Q1746.72 1880.58 1749.42 1882.71 Q1752.13 1884.8 1752.13 1887.8 Z\" fill=\"#000000\" fill-rule=\"evenodd\" fill-opacity=\"1\" /><path clip-path=\"url(#clip030)\" d=\"M1760.19 1937.84 Q1760.19 1937.43 1761.26 1936.41 Q1774.79 1922.64 1774.79 1896.69 Q1774.79 1870.66 1761.79 1857.51 Q1760.19 1855.99 1760.19 1855.54 Q1760.19 1854.72 1761.01 1854.72 Q1761.59 1854.72 1763.6 1856.4 Q1765.65 1858.08 1768.72 1861.93 Q1771.84 1865.78 1774.13 1870.5 Q1779.66 1881.93 1779.66 1896.69 Q1779.66 1910.87 1774.38 1922.31 Q1772.12 1927.1 1768.97 1931.12 Q1765.81 1935.14 1763.72 1936.9 Q1761.63 1938.66 1761.01 1938.66 Q1760.19 1938.66 1760.19 1937.84 Z\" fill=\"#000000\" fill-rule=\"evenodd\" fill-opacity=\"1\" /><polyline clip-path=\"url(#clip032)\" style=\"stroke:#000000; stroke-linecap:butt; stroke-linejoin:round; stroke-width:2; stroke-opacity:0.1; fill:none\" points=\"\n",
       "  343.161,1690.54 3089.76,1690.54 \n",
       "  \"/>\n",
       "<polyline clip-path=\"url(#clip032)\" style=\"stroke:#000000; stroke-linecap:butt; stroke-linejoin:round; stroke-width:2; stroke-opacity:0.1; fill:none\" points=\"\n",
       "  343.161,1380.59 3089.76,1380.59 \n",
       "  \"/>\n",
       "<polyline clip-path=\"url(#clip032)\" style=\"stroke:#000000; stroke-linecap:butt; stroke-linejoin:round; stroke-width:2; stroke-opacity:0.1; fill:none\" points=\"\n",
       "  343.161,1070.65 3089.76,1070.65 \n",
       "  \"/>\n",
       "<polyline clip-path=\"url(#clip032)\" style=\"stroke:#000000; stroke-linecap:butt; stroke-linejoin:round; stroke-width:2; stroke-opacity:0.1; fill:none\" points=\"\n",
       "  343.161,760.696 3089.76,760.696 \n",
       "  \"/>\n",
       "<polyline clip-path=\"url(#clip032)\" style=\"stroke:#000000; stroke-linecap:butt; stroke-linejoin:round; stroke-width:2; stroke-opacity:0.1; fill:none\" points=\"\n",
       "  343.161,450.746 3089.76,450.746 \n",
       "  \"/>\n",
       "<polyline clip-path=\"url(#clip032)\" style=\"stroke:#000000; stroke-linecap:butt; stroke-linejoin:round; stroke-width:2; stroke-opacity:0.1; fill:none\" points=\"\n",
       "  343.161,140.797 3089.76,140.797 \n",
       "  \"/>\n",
       "<polyline clip-path=\"url(#clip030)\" style=\"stroke:#000000; stroke-linecap:butt; stroke-linejoin:round; stroke-width:4; stroke-opacity:1; fill:none\" points=\"\n",
       "  343.161,1737.41 343.161,110.236 \n",
       "  \"/>\n",
       "<polyline clip-path=\"url(#clip030)\" style=\"stroke:#000000; stroke-linecap:butt; stroke-linejoin:round; stroke-width:4; stroke-opacity:1; fill:none\" points=\"\n",
       "  343.161,1690.54 376.12,1690.54 \n",
       "  \"/>\n",
       "<polyline clip-path=\"url(#clip030)\" style=\"stroke:#000000; stroke-linecap:butt; stroke-linejoin:round; stroke-width:4; stroke-opacity:1; fill:none\" points=\"\n",
       "  343.161,1380.59 376.12,1380.59 \n",
       "  \"/>\n",
       "<polyline clip-path=\"url(#clip030)\" style=\"stroke:#000000; stroke-linecap:butt; stroke-linejoin:round; stroke-width:4; stroke-opacity:1; fill:none\" points=\"\n",
       "  343.161,1070.65 376.12,1070.65 \n",
       "  \"/>\n",
       "<polyline clip-path=\"url(#clip030)\" style=\"stroke:#000000; stroke-linecap:butt; stroke-linejoin:round; stroke-width:4; stroke-opacity:1; fill:none\" points=\"\n",
       "  343.161,760.696 376.12,760.696 \n",
       "  \"/>\n",
       "<polyline clip-path=\"url(#clip030)\" style=\"stroke:#000000; stroke-linecap:butt; stroke-linejoin:round; stroke-width:4; stroke-opacity:1; fill:none\" points=\"\n",
       "  343.161,450.746 376.12,450.746 \n",
       "  \"/>\n",
       "<polyline clip-path=\"url(#clip030)\" style=\"stroke:#000000; stroke-linecap:butt; stroke-linejoin:round; stroke-width:4; stroke-opacity:1; fill:none\" points=\"\n",
       "  343.161,140.797 376.12,140.797 \n",
       "  \"/>\n",
       "<g clip-path=\"url(#clip030)\">\n",
       "<text style=\"fill:#000000; fill-opacity:1; font-family:Times New Roman,TimesNewRoman,Times,Baskerville,Georgia,serif; font-size:79px; text-anchor:end;\" transform=\"rotate(0, 295.161, 1716.54)\" x=\"295.161\" y=\"1716.54\">0</text>\n",
       "</g>\n",
       "<g clip-path=\"url(#clip030)\">\n",
       "<text style=\"fill:#000000; fill-opacity:1; font-family:Times New Roman,TimesNewRoman,Times,Baskerville,Georgia,serif; font-size:79px; text-anchor:end;\" transform=\"rotate(0, 295.161, 1406.59)\" x=\"295.161\" y=\"1406.59\">100</text>\n",
       "</g>\n",
       "<g clip-path=\"url(#clip030)\">\n",
       "<text style=\"fill:#000000; fill-opacity:1; font-family:Times New Roman,TimesNewRoman,Times,Baskerville,Georgia,serif; font-size:79px; text-anchor:end;\" transform=\"rotate(0, 295.161, 1096.65)\" x=\"295.161\" y=\"1096.65\">200</text>\n",
       "</g>\n",
       "<g clip-path=\"url(#clip030)\">\n",
       "<text style=\"fill:#000000; fill-opacity:1; font-family:Times New Roman,TimesNewRoman,Times,Baskerville,Georgia,serif; font-size:79px; text-anchor:end;\" transform=\"rotate(0, 295.161, 786.696)\" x=\"295.161\" y=\"786.696\">300</text>\n",
       "</g>\n",
       "<g clip-path=\"url(#clip030)\">\n",
       "<text style=\"fill:#000000; fill-opacity:1; font-family:Times New Roman,TimesNewRoman,Times,Baskerville,Georgia,serif; font-size:79px; text-anchor:end;\" transform=\"rotate(0, 295.161, 476.746)\" x=\"295.161\" y=\"476.746\">400</text>\n",
       "</g>\n",
       "<g clip-path=\"url(#clip030)\">\n",
       "<text style=\"fill:#000000; fill-opacity:1; font-family:Times New Roman,TimesNewRoman,Times,Baskerville,Georgia,serif; font-size:79px; text-anchor:end;\" transform=\"rotate(0, 295.161, 166.797)\" x=\"295.161\" y=\"166.797\">500</text>\n",
       "</g>\n",
       "<path clip-path=\"url(#clip030)\" d=\"M83.6511 1220.09 L81.0278 1220.09 L81.0278 1213.49 L71.3953 1213.49 Q65.165 1213.49 61.5989 1209.47 Q58.0328 1205.41 58.0328 1200.45 Q58.0328 1197.17 59.7954 1195.04 Q61.5579 1192.91 63.9353 1192.91 Q65.5339 1192.91 66.5996 1193.89 Q67.6243 1194.84 67.6243 1196.6 Q67.6243 1198.28 66.5586 1199.26 Q65.4929 1200.21 64.0173 1200.21 Q61.312 1200.21 60.4922 1197.71 Q59.9183 1198.98 59.8773 1200.45 Q59.8773 1203.49 62.9925 1205.86 Q66.1077 1208.2 71.3134 1208.2 L81.0278 1208.2 L81.0278 1198.36 L83.6511 1198.36 L83.6511 1207.91 L110.663 1207.91 Q113.081 1207.91 113.86 1206.93 Q114.639 1205.9 114.639 1201.56 L114.639 1199.8 L117.221 1199.8 Q116.975 1203.16 116.975 1210.45 Q116.975 1211.48 117.016 1213.08 Q117.057 1214.64 117.139 1216.77 Q117.221 1218.86 117.221 1220 L114.639 1220 Q114.639 1215.54 114.106 1214.51 Q113.532 1213.49 110.827 1213.49 L83.6511 1213.49 L83.6511 1220.09 Z\" fill=\"#000000\" fill-rule=\"evenodd\" fill-opacity=\"1\" /><path clip-path=\"url(#clip030)\" d=\"M109.228 1197.42 Q102.096 1197.42 98.3253 1189.02 Q95.9069 1183.98 95.2921 1173.56 L92.2179 1173.56 Q87.0122 1173.56 84.266 1176.31 Q81.4787 1179.02 81.4787 1182.46 Q81.4787 1188.61 85.3317 1191.56 Q85.4137 1189.06 86.6843 1188.16 Q87.914 1187.25 89.1847 1187.25 Q90.8652 1187.25 91.972 1188.32 Q93.0377 1189.35 93.0377 1191.11 Q93.0377 1192.79 92.0129 1193.89 Q90.9472 1195 89.1027 1195 Q85.0038 1195 82.2985 1191.31 Q79.5932 1187.58 79.5932 1182.29 Q79.5932 1175.41 84.225 1170.82 Q85.6596 1169.38 87.5041 1168.69 Q89.3486 1167.95 90.5783 1167.87 Q91.767 1167.78 94.1444 1167.78 L110.909 1167.78 Q111.401 1167.78 112.221 1167.62 Q113.04 1167.46 114.106 1166.72 Q115.131 1165.94 115.131 1164.67 Q115.131 1161.64 109.761 1161.68 L105.048 1161.68 L105.048 1159.55 L109.761 1159.55 Q114.229 1159.55 115.992 1161.92 Q117.713 1164.26 117.713 1166.43 Q117.713 1169.22 115.664 1170.98 Q113.614 1172.74 110.827 1172.99 Q114.024 1174.26 116.115 1177.17 Q118.164 1180.04 118.164 1183.98 Q118.164 1187.01 117.385 1189.88 Q116.647 1192.71 114.557 1195.08 Q112.426 1197.42 109.228 1197.42 M109.146 1190.94 Q112.262 1190.94 114.27 1188.73 Q116.279 1186.52 116.279 1183.4 Q116.279 1179.88 113.573 1176.72 Q110.827 1173.56 105.457 1173.56 L97.0546 1173.56 Q97.3825 1182.87 101.113 1186.93 Q104.802 1190.94 109.146 1190.94 Z\" fill=\"#000000\" fill-rule=\"evenodd\" fill-opacity=\"1\" /><path clip-path=\"url(#clip030)\" d=\"M117.221 1155.85 L114.639 1155.85 Q114.639 1151.38 114.106 1150.35 Q113.532 1149.33 110.827 1149.33 L67.1734 1149.33 Q64.0583 1149.33 63.2795 1150.44 Q62.5007 1151.5 62.5007 1155.85 L59.8773 1155.85 L58.9756 1143.8 L110.827 1143.8 Q113.532 1143.8 114.106 1142.73 Q114.639 1141.66 114.639 1137.24 L117.221 1137.24 Q117.221 1138.26 117.139 1140.39 Q117.057 1142.53 117.016 1144.08 Q116.975 1145.64 116.975 1146.54 Q116.975 1147.53 117.221 1155.85 Z\" fill=\"#000000\" fill-rule=\"evenodd\" fill-opacity=\"1\" /><path clip-path=\"url(#clip030)\" d=\"M117.221 1132.83 L114.639 1132.83 Q114.639 1128.36 114.106 1127.34 Q113.532 1126.31 110.827 1126.31 L67.1734 1126.31 Q64.0583 1126.31 63.2795 1127.42 Q62.5007 1128.48 62.5007 1132.83 L59.8773 1132.83 L58.9756 1120.78 L110.827 1120.78 Q113.532 1120.78 114.106 1119.71 Q114.639 1118.65 114.639 1114.22 L117.221 1114.22 Q117.221 1115.24 117.139 1117.37 Q117.057 1119.51 117.016 1121.06 Q116.975 1122.62 116.975 1123.52 Q116.975 1124.51 117.221 1132.83 Z\" fill=\"#000000\" fill-rule=\"evenodd\" fill-opacity=\"1\" /><path clip-path=\"url(#clip030)\" d=\"M99.1861 1072.83 Q91.1932 1072.83 85.6596 1067.26 Q80.126 1061.68 80.126 1054.14 Q80.126 1047.75 85.3317 1043.57 L67.1734 1043.57 Q64.0583 1043.57 63.2795 1044.67 Q62.5007 1045.74 62.5007 1050.08 L59.8773 1050.08 L58.9756 1037.99 L109.925 1037.99 Q113.04 1037.99 113.86 1036.93 Q114.639 1035.82 114.639 1031.48 L117.221 1031.48 L118.164 1043.81 L112.59 1043.81 Q118.123 1048.16 118.164 1055.04 Q118.164 1062.26 112.631 1067.55 Q107.097 1072.83 99.1861 1072.83 M99.268 1065.87 Q107.056 1065.87 110.909 1063.45 Q116.279 1060.09 116.279 1054.63 Q116.279 1048.4 110.417 1044.72 Q108.983 1043.77 107.302 1043.81 L90.0864 1043.81 Q88.4059 1043.81 87.0122 1044.72 Q81.9706 1048.16 81.9706 1053.77 Q81.9706 1059.64 87.3402 1063.28 Q91.3571 1065.87 99.268 1065.87 Z\" fill=\"#000000\" fill-rule=\"evenodd\" fill-opacity=\"1\" /><path clip-path=\"url(#clip030)\" d=\"M117.221 1026.71 L114.639 1026.71 Q114.639 1022.25 114.106 1021.22 Q113.532 1020.2 110.827 1020.2 L88.2419 1020.2 Q85.1267 1020.2 84.3889 1021.26 Q83.6511 1022.29 83.6511 1026.39 L81.0278 1026.39 L80.126 1014.66 L110.909 1014.66 Q113.409 1014.66 114.024 1013.76 Q114.639 1012.86 114.639 1008.76 L117.221 1008.76 Q116.975 1017.33 116.975 1017.49 Q116.975 1018.64 117.221 1026.71 M65.4929 1023.19 Q63.8123 1023.19 62.4597 1021.92 Q61.066 1020.61 61.066 1018.76 Q61.066 1016.92 62.3367 1015.61 Q63.5664 1014.29 65.5339 1014.29 Q67.4604 1014.29 68.731 1015.61 Q69.9607 1016.92 69.9607 1018.76 Q69.9607 1020.69 68.6081 1021.96 Q67.2554 1023.19 65.4929 1023.19 Z\" fill=\"#000000\" fill-rule=\"evenodd\" fill-opacity=\"1\" /><path clip-path=\"url(#clip030)\" d=\"M116.115 1003.69 L105.048 1003.69 Q104.105 1003.69 103.777 1003.65 Q103.449 1003.61 103.203 1003.37 Q102.957 1003.12 102.957 1002.63 Q102.957 1002.05 103.203 1001.85 Q103.449 1001.6 104.392 1001.44 Q110.171 1000.17 113.245 997.464 Q116.279 994.718 116.279 989.758 Q116.279 985.044 114.188 982.667 Q112.098 980.289 108.655 980.289 Q102.506 980.289 100.949 989.02 Q99.9239 994.062 99.268 996.152 Q98.5712 998.243 97.0546 1000.09 Q94.1034 1003.69 89.9225 1003.69 Q85.7416 1003.69 82.6674 1000.54 Q79.5932 997.341 79.5932 990.291 Q79.5932 985.577 81.9706 982.38 Q81.2328 981.437 80.6179 980.945 Q79.5932 979.839 79.5932 979.265 Q79.5932 978.609 80.0441 978.486 Q80.454 978.363 81.6427 978.363 L90.0864 978.363 Q91.0292 978.363 91.3571 978.404 Q91.685 978.445 91.931 978.691 Q92.1359 978.937 92.1359 979.47 Q92.1359 980.412 91.3571 980.453 Q81.1918 981.109 81.1918 990.291 Q81.1918 995.251 83.1183 997.464 Q85.0038 999.677 87.5861 999.677 Q89.0207 999.677 90.1274 999.022 Q91.1932 998.325 91.849 997.464 Q92.4638 996.562 93.0787 994.923 Q93.6525 993.283 93.8575 992.299 Q94.0624 991.275 94.4723 989.348 Q95.743 982.626 98.4892 979.798 Q102.014 976.273 106.482 976.273 Q111.442 976.273 114.803 979.634 Q118.164 982.995 118.164 989.758 Q118.164 995.21 114.516 999.022 Q115.008 999.513 115.459 999.882 Q115.869 1000.25 116.033 1000.42 Q116.197 1000.54 116.32 1000.58 Q116.402 1000.62 116.484 1000.7 Q118.164 1002.38 118.164 1002.79 Q118.164 1003.45 117.713 1003.57 Q117.303 1003.69 116.115 1003.69 Z\" fill=\"#000000\" fill-rule=\"evenodd\" fill-opacity=\"1\" /><path clip-path=\"url(#clip030)\" d=\"M83.6511 971.972 L81.8066 971.972 Q81.6427 968.119 78.9374 965.578 Q76.1911 962.995 72.83 962.135 Q69.4688 961.233 65.5749 961.151 L65.5749 959.06 L81.0278 959.06 L81.0278 947.05 L83.6511 947.05 L83.6511 959.06 L106.974 959.06 Q116.033 959.06 116.033 953.404 Q116.033 950.985 113.573 949.387 Q111.073 947.788 106.646 947.788 L102.014 947.788 L102.014 945.698 L106.81 945.698 Q111.36 945.698 114.762 947.788 Q118.164 949.879 118.164 954.019 Q118.164 955.535 117.754 957.052 Q117.385 958.527 116.402 960.495 Q115.377 962.421 112.917 963.651 Q110.417 964.84 106.81 964.84 L83.6511 964.84 L83.6511 971.972 Z\" fill=\"#000000\" fill-rule=\"evenodd\" fill-opacity=\"1\" /><path clip-path=\"url(#clip030)\" d=\"M109.228 941.237 Q102.096 941.237 98.3253 932.834 Q95.9069 927.792 95.2921 917.381 L92.2179 917.381 Q87.0122 917.381 84.266 920.127 Q81.4787 922.832 81.4787 926.276 Q81.4787 932.424 85.3317 935.375 Q85.4137 932.875 86.6843 931.973 Q87.914 931.071 89.1847 931.071 Q90.8652 931.071 91.972 932.137 Q93.0377 933.162 93.0377 934.924 Q93.0377 936.605 92.0129 937.712 Q90.9472 938.818 89.1027 938.818 Q85.0038 938.818 82.2985 935.129 Q79.5932 931.399 79.5932 926.112 Q79.5932 919.225 84.225 914.635 Q85.6596 913.2 87.5041 912.503 Q89.3486 911.765 90.5783 911.683 Q91.767 911.601 94.1444 911.601 L110.909 911.601 Q111.401 911.601 112.221 911.437 Q113.04 911.274 114.106 910.536 Q115.131 909.757 115.131 908.486 Q115.131 905.453 109.761 905.494 L105.048 905.494 L105.048 903.363 L109.761 903.363 Q114.229 903.363 115.992 905.74 Q117.713 908.076 117.713 910.249 Q117.713 913.036 115.664 914.799 Q113.614 916.561 110.827 916.807 Q114.024 918.078 116.115 920.988 Q118.164 923.857 118.164 927.792 Q118.164 930.825 117.385 933.695 Q116.647 936.523 114.557 938.9 Q112.426 941.237 109.228 941.237 M109.146 934.76 Q112.262 934.76 114.27 932.547 Q116.279 930.334 116.279 927.218 Q116.279 923.693 113.573 920.537 Q110.827 917.381 105.457 917.381 L97.0546 917.381 Q97.3825 926.685 101.113 930.743 Q104.802 934.76 109.146 934.76 Z\" fill=\"#000000\" fill-rule=\"evenodd\" fill-opacity=\"1\" /><path clip-path=\"url(#clip030)\" d=\"M117.221 899.664 L114.639 899.664 Q114.639 895.196 114.106 894.171 Q113.532 893.146 110.827 893.146 L88.3239 893.146 Q85.2087 893.146 84.4299 894.253 Q83.6511 895.319 83.6511 899.664 L81.0278 899.664 L80.126 887.859 L88.9387 887.859 Q80.126 883.924 80.126 875.439 Q80.126 869.127 83.2412 866.626 Q85.3317 864.782 87.6681 864.413 Q90.0045 864.003 96.0709 864.003 L112.098 864.003 Q113.86 863.921 114.27 862.568 Q114.639 861.216 114.639 857.445 L117.221 857.445 Q116.975 866.012 116.975 866.872 Q116.975 867.528 117.221 876.341 L114.639 876.341 Q114.639 871.873 114.106 870.848 Q113.532 869.783 110.827 869.783 L91.2751 869.783 Q87.0122 869.783 84.5119 871.094 Q81.9706 872.406 81.9706 876.013 Q81.9706 880.358 85.6186 883.842 Q89.2667 887.326 95.4151 887.326 L110.827 887.326 Q113.532 887.326 114.106 886.301 Q114.639 885.236 114.639 880.809 L117.221 880.809 Q116.975 889.375 116.975 890.195 Q116.975 890.851 117.221 899.664 Z\" fill=\"#000000\" fill-rule=\"evenodd\" fill-opacity=\"1\" /><path clip-path=\"url(#clip030)\" d=\"M112.631 848.215 Q107.056 853.544 99.1041 853.544 Q91.1112 853.544 85.3727 848.297 Q79.5932 843.051 79.5932 835.345 Q79.5932 830.221 82.0525 826.368 Q84.4709 822.515 88.6108 822.515 Q90.4553 822.515 91.5211 823.622 Q92.5458 824.687 92.5458 826.368 Q92.5458 828.13 91.4801 829.196 Q90.3734 830.221 88.6928 830.221 Q87.955 830.221 87.2172 829.975 Q86.4794 829.729 85.7006 828.827 Q84.9218 827.885 84.7988 826.286 Q81.7246 829.278 81.7246 835.099 Q81.7246 835.181 81.7246 835.263 Q81.7246 839.525 85.7416 843.051 Q89.7585 846.576 98.9401 846.576 Q103.736 846.576 107.261 845.428 Q110.745 844.239 112.549 842.313 Q114.352 840.386 115.213 838.501 Q116.033 836.615 116.033 834.771 Q116.033 826.532 107.22 823.745 Q106.4 823.499 106.4 822.679 Q106.4 821.572 107.22 821.572 Q107.63 821.572 108.696 821.9 Q109.761 822.228 111.442 823.253 Q113.122 824.277 114.598 825.753 Q116.033 827.188 117.098 829.77 Q118.164 832.311 118.164 835.509 Q118.164 842.887 112.631 848.215 Z\" fill=\"#000000\" fill-rule=\"evenodd\" fill-opacity=\"1\" /><path clip-path=\"url(#clip030)\" d=\"M98.7352 816.64 Q90.8243 816.64 85.2087 811.557 Q79.5932 806.474 79.5932 799.178 Q79.5932 791.8 84.3889 787.988 Q89.1847 784.135 96.0709 784.135 Q97.3415 784.135 97.5875 784.463 Q97.8334 784.791 97.8334 786.226 L97.8334 809.672 Q106.4 809.672 110.417 807.13 Q116.033 803.605 116.033 797.662 Q116.033 796.842 115.869 795.858 Q115.705 794.874 115.008 792.866 Q114.27 790.857 112.344 789.095 Q110.417 787.332 107.384 786.308 Q106.195 786.062 106.236 785.242 Q106.236 784.135 107.22 784.135 Q107.958 784.135 109.638 784.955 Q111.278 785.734 113.245 787.25 Q115.213 788.767 116.688 791.718 Q118.164 794.628 118.164 798.154 Q118.164 805.532 112.59 811.106 Q106.974 816.64 98.7352 816.64 M96.0709 809.59 L96.0709 789.669 Q94.3083 789.669 92.3409 789.997 Q90.3734 790.284 87.6681 791.185 Q84.9218 792.046 83.2002 794.096 Q81.4787 796.145 81.4787 799.178 Q81.4787 800.531 82.0525 802.007 Q82.6264 803.441 84.02 805.204 Q85.4137 806.966 88.5698 808.196 Q91.726 809.426 96.0709 809.59 Z\" fill=\"#000000\" fill-rule=\"evenodd\" fill-opacity=\"1\" /><path clip-path=\"url(#clip030)\" d=\"M96.2348 761.248 Q82.0525 761.248 70.6165 755.961 Q65.8208 753.706 61.8038 750.55 Q57.7869 747.394 56.0244 745.304 Q54.2618 743.213 54.2618 742.639 Q54.2618 741.819 55.0816 741.778 Q55.4915 741.778 56.5162 742.885 Q70.2886 756.412 96.2348 756.371 Q122.263 756.371 135.503 743.213 Q136.937 741.778 137.388 741.778 Q138.208 741.778 138.208 742.639 Q138.208 743.213 136.527 745.222 Q134.847 747.23 130.994 750.345 Q127.141 753.46 122.427 755.715 Q110.991 761.248 96.2348 761.248 Z\" fill=\"#000000\" fill-rule=\"evenodd\" fill-opacity=\"1\" /><path clip-path=\"url(#clip030)\" d=\"M117.221 729.013 L114.639 729.013 Q114.639 724.545 114.106 723.521 Q113.532 722.496 110.827 722.496 L88.3239 722.496 Q85.2087 722.496 84.4299 723.602 Q83.6511 724.668 83.6511 729.013 L81.0278 729.013 L80.126 717.208 L88.9387 717.208 Q80.126 713.273 80.126 704.788 Q80.126 694.951 88.3239 693.598 Q85.1267 692.164 82.6264 689.172 Q80.126 686.138 80.126 681.425 Q80.126 675.112 83.2412 672.612 Q85.3317 670.767 87.6681 670.398 Q90.0045 670.03 96.0709 670.03 L112.098 670.03 Q113.86 669.948 114.27 668.595 Q114.639 667.242 114.639 663.471 L117.221 663.471 Q116.975 672.038 116.975 672.858 Q116.975 673.514 117.221 682.367 L114.639 682.367 Q114.639 677.899 114.106 676.875 Q113.532 675.809 110.827 675.809 L91.2751 675.809 Q87.0122 675.809 84.5119 677.121 Q81.9706 678.432 81.9706 682.039 Q81.9706 686.384 85.6186 689.868 Q89.2667 693.352 95.4151 693.352 L110.827 693.352 Q113.532 693.352 114.106 692.328 Q114.639 691.262 114.639 686.794 L117.221 686.794 Q116.975 695.361 116.975 696.222 Q116.975 696.877 117.221 705.69 L114.639 705.69 Q114.639 701.222 114.106 700.198 Q113.532 699.132 110.827 699.132 L91.2751 699.132 Q87.0122 699.132 84.5119 700.444 Q81.9706 701.755 81.9706 705.362 Q81.9706 709.707 85.6186 713.191 Q89.2667 716.675 95.4151 716.675 L110.827 716.675 Q113.532 716.675 114.106 715.651 Q114.639 714.585 114.639 710.158 L117.221 710.158 Q116.975 718.725 116.975 719.545 Q116.975 720.2 117.221 729.013 Z\" fill=\"#000000\" fill-rule=\"evenodd\" fill-opacity=\"1\" /><path clip-path=\"url(#clip030)\" d=\"M137.388 659.793 Q136.978 659.793 135.953 658.727 Q122.181 645.2 96.2348 645.2 Q70.2066 645.2 57.0491 658.194 Q55.5325 659.793 55.0816 659.793 Q54.2618 659.793 54.2618 658.973 Q54.2618 658.399 55.9424 656.39 Q57.6229 654.341 61.4759 651.267 Q65.3289 648.152 70.0427 645.856 Q81.4787 640.323 96.2348 640.323 Q110.417 640.323 121.853 645.61 Q126.649 647.865 130.666 651.021 Q134.683 654.177 136.445 656.267 Q138.208 658.358 138.208 658.973 Q138.208 659.793 137.388 659.793 Z\" fill=\"#000000\" fill-rule=\"evenodd\" fill-opacity=\"1\" /><polyline clip-path=\"url(#clip032)\" style=\"stroke:#000000; stroke-linecap:butt; stroke-linejoin:round; stroke-width:4; stroke-opacity:1; fill:none\" points=\"\n",
       "  420.895,1690.54 476.492,1690.54 \n",
       "  \"/>\n",
       "<polyline clip-path=\"url(#clip032)\" style=\"stroke:#000000; stroke-linecap:butt; stroke-linejoin:round; stroke-width:4; stroke-opacity:1; fill:none\" points=\"\n",
       "  498.935,1686.75 653.485,1686.75 \n",
       "  \"/>\n",
       "<polyline clip-path=\"url(#clip032)\" style=\"stroke:#000000; stroke-linecap:butt; stroke-linejoin:round; stroke-width:4; stroke-opacity:1; fill:none\" points=\"\n",
       "  663.941,1675.36 743.511,1675.36 \n",
       "  \"/>\n",
       "<polyline clip-path=\"url(#clip032)\" style=\"stroke:#000000; stroke-linecap:butt; stroke-linejoin:round; stroke-width:4; stroke-opacity:1; fill:none\" points=\"\n",
       "  824.612,1656.37 837.874,1656.37 \n",
       "  \"/>\n",
       "<polyline clip-path=\"url(#clip032)\" style=\"stroke:#000000; stroke-linecap:butt; stroke-linejoin:round; stroke-width:4; stroke-opacity:1; fill:none\" points=\"\n",
       "  901.377,1629.79 1016.14,1629.79 \n",
       "  \"/>\n",
       "<polyline clip-path=\"url(#clip032)\" style=\"stroke:#000000; stroke-linecap:butt; stroke-linejoin:round; stroke-width:4; stroke-opacity:1; fill:none\" points=\"\n",
       "  1076.07,1595.62 1096.48,1595.62 \n",
       "  \"/>\n",
       "<polyline clip-path=\"url(#clip032)\" style=\"stroke:#000000; stroke-linecap:butt; stroke-linejoin:round; stroke-width:4; stroke-opacity:1; fill:none\" points=\"\n",
       "  1166.1,1553.86 1261.48,1553.86 \n",
       "  \"/>\n",
       "<polyline clip-path=\"url(#clip032)\" style=\"stroke:#000000; stroke-linecap:butt; stroke-linejoin:round; stroke-width:4; stroke-opacity:1; fill:none\" points=\"\n",
       "  1279.85,1504.5 1402.77,1504.5 \n",
       "  \"/>\n",
       "<polyline clip-path=\"url(#clip032)\" style=\"stroke:#000000; stroke-linecap:butt; stroke-linejoin:round; stroke-width:4; stroke-opacity:1; fill:none\" points=\"\n",
       "  1420.11,1447.54 1517.54,1447.54 \n",
       "  \"/>\n",
       "<polyline clip-path=\"url(#clip032)\" style=\"stroke:#000000; stroke-linecap:butt; stroke-linejoin:round; stroke-width:4; stroke-opacity:1; fill:none\" points=\"\n",
       "  1517.28,1383 1675.4,1383 \n",
       "  \"/>\n",
       "<polyline clip-path=\"url(#clip032)\" style=\"stroke:#000000; stroke-linecap:butt; stroke-linejoin:round; stroke-width:4; stroke-opacity:1; fill:none\" points=\"\n",
       "  1715.95,1310.86 1731.76,1310.86 \n",
       "  \"/>\n",
       "<polyline clip-path=\"url(#clip032)\" style=\"stroke:#000000; stroke-linecap:butt; stroke-linejoin:round; stroke-width:4; stroke-opacity:1; fill:none\" points=\"\n",
       "  1820.52,1231.12 1882.23,1231.12 \n",
       "  \"/>\n",
       "<polyline clip-path=\"url(#clip032)\" style=\"stroke:#000000; stroke-linecap:butt; stroke-linejoin:round; stroke-width:4; stroke-opacity:1; fill:none\" points=\"\n",
       "  1913.35,1143.79 2044.43,1143.79 \n",
       "  \"/>\n",
       "<polyline clip-path=\"url(#clip032)\" style=\"stroke:#000000; stroke-linecap:butt; stroke-linejoin:round; stroke-width:4; stroke-opacity:1; fill:none\" points=\"\n",
       "  2073.76,1048.87 2139.05,1048.87 \n",
       "  \"/>\n",
       "<polyline clip-path=\"url(#clip032)\" style=\"stroke:#000000; stroke-linecap:butt; stroke-linejoin:round; stroke-width:4; stroke-opacity:1; fill:none\" points=\"\n",
       "  2220.41,946.355 2247.44,946.355 \n",
       "  \"/>\n",
       "<polyline clip-path=\"url(#clip032)\" style=\"stroke:#000000; stroke-linecap:butt; stroke-linejoin:round; stroke-width:4; stroke-opacity:1; fill:none\" points=\"\n",
       "  2353.28,836.246 2369.6,836.246 \n",
       "  \"/>\n",
       "<polyline clip-path=\"url(#clip032)\" style=\"stroke:#000000; stroke-linecap:butt; stroke-linejoin:round; stroke-width:4; stroke-opacity:1; fill:none\" points=\"\n",
       "  2486.66,718.543 2491.25,718.543 \n",
       "  \"/>\n",
       "<polyline clip-path=\"url(#clip032)\" style=\"stroke:#000000; stroke-linecap:butt; stroke-linejoin:round; stroke-width:4; stroke-opacity:1; fill:none\" points=\"\n",
       "  2604.74,593.246 2628.21,593.246 \n",
       "  \"/>\n",
       "<polyline clip-path=\"url(#clip032)\" style=\"stroke:#000000; stroke-linecap:butt; stroke-linejoin:round; stroke-width:4; stroke-opacity:1; fill:none\" points=\"\n",
       "  2739.4,460.355 2748.58,460.355 \n",
       "  \"/>\n",
       "<polyline clip-path=\"url(#clip032)\" style=\"stroke:#000000; stroke-linecap:butt; stroke-linejoin:round; stroke-width:4; stroke-opacity:1; fill:none\" points=\"\n",
       "  2864.62,319.87 2878.39,319.87 \n",
       "  \"/>\n",
       "<polyline clip-path=\"url(#clip032)\" style=\"stroke:#000000; stroke-linecap:butt; stroke-linejoin:round; stroke-width:4; stroke-opacity:1; fill:none\" points=\"\n",
       "  2986.02,171.792 3012.03,171.792 \n",
       "  \"/>\n",
       "<line clip-path=\"url(#clip032)\" x1=\"420.895\" y1=\"1714.54\" x2=\"420.895\" y2=\"1666.54\" style=\"stroke:#000000; stroke-width:4; stroke-opacity:0.25\"/>\n",
       "<line clip-path=\"url(#clip032)\" x1=\"476.492\" y1=\"1714.54\" x2=\"476.492\" y2=\"1666.54\" style=\"stroke:#000000; stroke-width:4; stroke-opacity:0.25\"/>\n",
       "<line clip-path=\"url(#clip032)\" x1=\"498.935\" y1=\"1710.75\" x2=\"498.935\" y2=\"1662.75\" style=\"stroke:#000000; stroke-width:4; stroke-opacity:0.25\"/>\n",
       "<line clip-path=\"url(#clip032)\" x1=\"653.485\" y1=\"1710.75\" x2=\"653.485\" y2=\"1662.75\" style=\"stroke:#000000; stroke-width:4; stroke-opacity:0.25\"/>\n",
       "<line clip-path=\"url(#clip032)\" x1=\"663.941\" y1=\"1699.36\" x2=\"663.941\" y2=\"1651.36\" style=\"stroke:#000000; stroke-width:4; stroke-opacity:0.25\"/>\n",
       "<line clip-path=\"url(#clip032)\" x1=\"743.511\" y1=\"1699.36\" x2=\"743.511\" y2=\"1651.36\" style=\"stroke:#000000; stroke-width:4; stroke-opacity:0.25\"/>\n",
       "<line clip-path=\"url(#clip032)\" x1=\"824.612\" y1=\"1680.37\" x2=\"824.612\" y2=\"1632.37\" style=\"stroke:#000000; stroke-width:4; stroke-opacity:0.25\"/>\n",
       "<line clip-path=\"url(#clip032)\" x1=\"837.874\" y1=\"1680.37\" x2=\"837.874\" y2=\"1632.37\" style=\"stroke:#000000; stroke-width:4; stroke-opacity:0.25\"/>\n",
       "<line clip-path=\"url(#clip032)\" x1=\"901.377\" y1=\"1653.79\" x2=\"901.377\" y2=\"1605.79\" style=\"stroke:#000000; stroke-width:4; stroke-opacity:0.25\"/>\n",
       "<line clip-path=\"url(#clip032)\" x1=\"1016.14\" y1=\"1653.79\" x2=\"1016.14\" y2=\"1605.79\" style=\"stroke:#000000; stroke-width:4; stroke-opacity:0.25\"/>\n",
       "<line clip-path=\"url(#clip032)\" x1=\"1076.07\" y1=\"1619.62\" x2=\"1076.07\" y2=\"1571.62\" style=\"stroke:#000000; stroke-width:4; stroke-opacity:0.25\"/>\n",
       "<line clip-path=\"url(#clip032)\" x1=\"1096.48\" y1=\"1619.62\" x2=\"1096.48\" y2=\"1571.62\" style=\"stroke:#000000; stroke-width:4; stroke-opacity:0.25\"/>\n",
       "<line clip-path=\"url(#clip032)\" x1=\"1166.1\" y1=\"1577.86\" x2=\"1166.1\" y2=\"1529.86\" style=\"stroke:#000000; stroke-width:4; stroke-opacity:0.25\"/>\n",
       "<line clip-path=\"url(#clip032)\" x1=\"1261.48\" y1=\"1577.86\" x2=\"1261.48\" y2=\"1529.86\" style=\"stroke:#000000; stroke-width:4; stroke-opacity:0.25\"/>\n",
       "<line clip-path=\"url(#clip032)\" x1=\"1279.85\" y1=\"1528.5\" x2=\"1279.85\" y2=\"1480.5\" style=\"stroke:#000000; stroke-width:4; stroke-opacity:0.25\"/>\n",
       "<line clip-path=\"url(#clip032)\" x1=\"1402.77\" y1=\"1528.5\" x2=\"1402.77\" y2=\"1480.5\" style=\"stroke:#000000; stroke-width:4; stroke-opacity:0.25\"/>\n",
       "<line clip-path=\"url(#clip032)\" x1=\"1420.11\" y1=\"1471.54\" x2=\"1420.11\" y2=\"1423.54\" style=\"stroke:#000000; stroke-width:4; stroke-opacity:0.25\"/>\n",
       "<line clip-path=\"url(#clip032)\" x1=\"1517.54\" y1=\"1471.54\" x2=\"1517.54\" y2=\"1423.54\" style=\"stroke:#000000; stroke-width:4; stroke-opacity:0.25\"/>\n",
       "<line clip-path=\"url(#clip032)\" x1=\"1517.28\" y1=\"1407\" x2=\"1517.28\" y2=\"1359\" style=\"stroke:#000000; stroke-width:4; stroke-opacity:0.25\"/>\n",
       "<line clip-path=\"url(#clip032)\" x1=\"1675.4\" y1=\"1407\" x2=\"1675.4\" y2=\"1359\" style=\"stroke:#000000; stroke-width:4; stroke-opacity:0.25\"/>\n",
       "<line clip-path=\"url(#clip032)\" x1=\"1715.95\" y1=\"1334.86\" x2=\"1715.95\" y2=\"1286.86\" style=\"stroke:#000000; stroke-width:4; stroke-opacity:0.25\"/>\n",
       "<line clip-path=\"url(#clip032)\" x1=\"1731.76\" y1=\"1334.86\" x2=\"1731.76\" y2=\"1286.86\" style=\"stroke:#000000; stroke-width:4; stroke-opacity:0.25\"/>\n",
       "<line clip-path=\"url(#clip032)\" x1=\"1820.52\" y1=\"1255.12\" x2=\"1820.52\" y2=\"1207.12\" style=\"stroke:#000000; stroke-width:4; stroke-opacity:0.25\"/>\n",
       "<line clip-path=\"url(#clip032)\" x1=\"1882.23\" y1=\"1255.12\" x2=\"1882.23\" y2=\"1207.12\" style=\"stroke:#000000; stroke-width:4; stroke-opacity:0.25\"/>\n",
       "<line clip-path=\"url(#clip032)\" x1=\"1913.35\" y1=\"1167.79\" x2=\"1913.35\" y2=\"1119.79\" style=\"stroke:#000000; stroke-width:4; stroke-opacity:0.25\"/>\n",
       "<line clip-path=\"url(#clip032)\" x1=\"2044.43\" y1=\"1167.79\" x2=\"2044.43\" y2=\"1119.79\" style=\"stroke:#000000; stroke-width:4; stroke-opacity:0.25\"/>\n",
       "<line clip-path=\"url(#clip032)\" x1=\"2073.76\" y1=\"1072.87\" x2=\"2073.76\" y2=\"1024.87\" style=\"stroke:#000000; stroke-width:4; stroke-opacity:0.25\"/>\n",
       "<line clip-path=\"url(#clip032)\" x1=\"2139.05\" y1=\"1072.87\" x2=\"2139.05\" y2=\"1024.87\" style=\"stroke:#000000; stroke-width:4; stroke-opacity:0.25\"/>\n",
       "<line clip-path=\"url(#clip032)\" x1=\"2220.41\" y1=\"970.355\" x2=\"2220.41\" y2=\"922.355\" style=\"stroke:#000000; stroke-width:4; stroke-opacity:0.25\"/>\n",
       "<line clip-path=\"url(#clip032)\" x1=\"2247.44\" y1=\"970.355\" x2=\"2247.44\" y2=\"922.355\" style=\"stroke:#000000; stroke-width:4; stroke-opacity:0.25\"/>\n",
       "<line clip-path=\"url(#clip032)\" x1=\"2353.28\" y1=\"860.246\" x2=\"2353.28\" y2=\"812.246\" style=\"stroke:#000000; stroke-width:4; stroke-opacity:0.25\"/>\n",
       "<line clip-path=\"url(#clip032)\" x1=\"2369.6\" y1=\"860.246\" x2=\"2369.6\" y2=\"812.246\" style=\"stroke:#000000; stroke-width:4; stroke-opacity:0.25\"/>\n",
       "<line clip-path=\"url(#clip032)\" x1=\"2486.66\" y1=\"742.543\" x2=\"2486.66\" y2=\"694.543\" style=\"stroke:#000000; stroke-width:4; stroke-opacity:0.25\"/>\n",
       "<line clip-path=\"url(#clip032)\" x1=\"2491.25\" y1=\"742.543\" x2=\"2491.25\" y2=\"694.543\" style=\"stroke:#000000; stroke-width:4; stroke-opacity:0.25\"/>\n",
       "<line clip-path=\"url(#clip032)\" x1=\"2604.74\" y1=\"617.246\" x2=\"2604.74\" y2=\"569.246\" style=\"stroke:#000000; stroke-width:4; stroke-opacity:0.25\"/>\n",
       "<line clip-path=\"url(#clip032)\" x1=\"2628.21\" y1=\"617.246\" x2=\"2628.21\" y2=\"569.246\" style=\"stroke:#000000; stroke-width:4; stroke-opacity:0.25\"/>\n",
       "<line clip-path=\"url(#clip032)\" x1=\"2739.4\" y1=\"484.355\" x2=\"2739.4\" y2=\"436.355\" style=\"stroke:#000000; stroke-width:4; stroke-opacity:0.25\"/>\n",
       "<line clip-path=\"url(#clip032)\" x1=\"2748.58\" y1=\"484.355\" x2=\"2748.58\" y2=\"436.355\" style=\"stroke:#000000; stroke-width:4; stroke-opacity:0.25\"/>\n",
       "<line clip-path=\"url(#clip032)\" x1=\"2864.62\" y1=\"343.87\" x2=\"2864.62\" y2=\"295.87\" style=\"stroke:#000000; stroke-width:4; stroke-opacity:0.25\"/>\n",
       "<line clip-path=\"url(#clip032)\" x1=\"2878.39\" y1=\"343.87\" x2=\"2878.39\" y2=\"295.87\" style=\"stroke:#000000; stroke-width:4; stroke-opacity:0.25\"/>\n",
       "<line clip-path=\"url(#clip032)\" x1=\"2986.02\" y1=\"195.792\" x2=\"2986.02\" y2=\"147.792\" style=\"stroke:#000000; stroke-width:4; stroke-opacity:0.25\"/>\n",
       "<line clip-path=\"url(#clip032)\" x1=\"3012.03\" y1=\"195.792\" x2=\"3012.03\" y2=\"147.792\" style=\"stroke:#000000; stroke-width:4; stroke-opacity:0.25\"/>\n",
       "<polyline clip-path=\"url(#clip032)\" style=\"stroke:#000000; stroke-linecap:butt; stroke-linejoin:round; stroke-width:4; stroke-opacity:1; fill:none\" points=\"\n",
       "  448.693,1690.54 448.693,1690.54 \n",
       "  \"/>\n",
       "<polyline clip-path=\"url(#clip032)\" style=\"stroke:#000000; stroke-linecap:butt; stroke-linejoin:round; stroke-width:4; stroke-opacity:1; fill:none\" points=\"\n",
       "  576.21,1691.36 576.21,1682.14 \n",
       "  \"/>\n",
       "<polyline clip-path=\"url(#clip032)\" style=\"stroke:#000000; stroke-linecap:butt; stroke-linejoin:round; stroke-width:4; stroke-opacity:1; fill:none\" points=\"\n",
       "  703.726,1680.09 703.726,1670.63 \n",
       "  \"/>\n",
       "<polyline clip-path=\"url(#clip032)\" style=\"stroke:#000000; stroke-linecap:butt; stroke-linejoin:round; stroke-width:4; stroke-opacity:1; fill:none\" points=\"\n",
       "  831.243,1657.56 831.243,1655.18 \n",
       "  \"/>\n",
       "<polyline clip-path=\"url(#clip032)\" style=\"stroke:#000000; stroke-linecap:butt; stroke-linejoin:round; stroke-width:4; stroke-opacity:1; fill:none\" points=\"\n",
       "  958.759,1643.49 958.759,1616.1 \n",
       "  \"/>\n",
       "<polyline clip-path=\"url(#clip032)\" style=\"stroke:#000000; stroke-linecap:butt; stroke-linejoin:round; stroke-width:4; stroke-opacity:1; fill:none\" points=\"\n",
       "  1086.28,1598.64 1086.28,1592.6 \n",
       "  \"/>\n",
       "<polyline clip-path=\"url(#clip032)\" style=\"stroke:#000000; stroke-linecap:butt; stroke-linejoin:round; stroke-width:4; stroke-opacity:1; fill:none\" points=\"\n",
       "  1213.79,1570.87 1213.79,1536.84 \n",
       "  \"/>\n",
       "<polyline clip-path=\"url(#clip032)\" style=\"stroke:#000000; stroke-linecap:butt; stroke-linejoin:round; stroke-width:4; stroke-opacity:1; fill:none\" points=\"\n",
       "  1341.31,1530.13 1341.31,1478.87 \n",
       "  \"/>\n",
       "<polyline clip-path=\"url(#clip032)\" style=\"stroke:#000000; stroke-linecap:butt; stroke-linejoin:round; stroke-width:4; stroke-opacity:1; fill:none\" points=\"\n",
       "  1468.83,1470.74 1468.83,1424.34 \n",
       "  \"/>\n",
       "<polyline clip-path=\"url(#clip032)\" style=\"stroke:#000000; stroke-linecap:butt; stroke-linejoin:round; stroke-width:4; stroke-opacity:1; fill:none\" points=\"\n",
       "  1596.34,1425.31 1596.34,1340.68 \n",
       "  \"/>\n",
       "<polyline clip-path=\"url(#clip032)\" style=\"stroke:#000000; stroke-linecap:butt; stroke-linejoin:round; stroke-width:4; stroke-opacity:1; fill:none\" points=\"\n",
       "  1723.86,1315.54 1723.86,1306.17 \n",
       "  \"/>\n",
       "<polyline clip-path=\"url(#clip032)\" style=\"stroke:#000000; stroke-linecap:butt; stroke-linejoin:round; stroke-width:4; stroke-opacity:1; fill:none\" points=\"\n",
       "  1851.37,1251.33 1851.37,1210.92 \n",
       "  \"/>\n",
       "<polyline clip-path=\"url(#clip032)\" style=\"stroke:#000000; stroke-linecap:butt; stroke-linejoin:round; stroke-width:4; stroke-opacity:1; fill:none\" points=\"\n",
       "  1978.89,1190.63 1978.89,1096.95 \n",
       "  \"/>\n",
       "<polyline clip-path=\"url(#clip032)\" style=\"stroke:#000000; stroke-linecap:butt; stroke-linejoin:round; stroke-width:4; stroke-opacity:1; fill:none\" points=\"\n",
       "  2106.41,1074.09 2106.41,1023.65 \n",
       "  \"/>\n",
       "<polyline clip-path=\"url(#clip032)\" style=\"stroke:#000000; stroke-linecap:butt; stroke-linejoin:round; stroke-width:4; stroke-opacity:1; fill:none\" points=\"\n",
       "  2233.92,957.65 2233.92,935.061 \n",
       "  \"/>\n",
       "<polyline clip-path=\"url(#clip032)\" style=\"stroke:#000000; stroke-linecap:butt; stroke-linejoin:round; stroke-width:4; stroke-opacity:1; fill:none\" points=\"\n",
       "  2361.44,843.576 2361.44,828.916 \n",
       "  \"/>\n",
       "<polyline clip-path=\"url(#clip032)\" style=\"stroke:#000000; stroke-linecap:butt; stroke-linejoin:round; stroke-width:4; stroke-opacity:1; fill:none\" points=\"\n",
       "  2488.96,720.948 2488.96,716.137 \n",
       "  \"/>\n",
       "<polyline clip-path=\"url(#clip032)\" style=\"stroke:#000000; stroke-linecap:butt; stroke-linejoin:round; stroke-width:4; stroke-opacity:1; fill:none\" points=\"\n",
       "  2616.47,605.145 2616.47,581.347 \n",
       "  \"/>\n",
       "<polyline clip-path=\"url(#clip032)\" style=\"stroke:#000000; stroke-linecap:butt; stroke-linejoin:round; stroke-width:4; stroke-opacity:1; fill:none\" points=\"\n",
       "  2743.99,465.478 2743.99,455.231 \n",
       "  \"/>\n",
       "<polyline clip-path=\"url(#clip032)\" style=\"stroke:#000000; stroke-linecap:butt; stroke-linejoin:round; stroke-width:4; stroke-opacity:1; fill:none\" points=\"\n",
       "  2871.51,327.882 2871.51,311.858 \n",
       "  \"/>\n",
       "<polyline clip-path=\"url(#clip032)\" style=\"stroke:#000000; stroke-linecap:butt; stroke-linejoin:round; stroke-width:4; stroke-opacity:1; fill:none\" points=\"\n",
       "  2999.02,187.296 2999.02,156.288 \n",
       "  \"/>\n",
       "<line clip-path=\"url(#clip032)\" x1=\"472.693\" y1=\"1690.54\" x2=\"424.693\" y2=\"1690.54\" style=\"stroke:#000000; stroke-width:4; stroke-opacity:0.25\"/>\n",
       "<line clip-path=\"url(#clip032)\" x1=\"472.693\" y1=\"1690.54\" x2=\"424.693\" y2=\"1690.54\" style=\"stroke:#000000; stroke-width:4; stroke-opacity:0.25\"/>\n",
       "<line clip-path=\"url(#clip032)\" x1=\"600.21\" y1=\"1691.36\" x2=\"552.21\" y2=\"1691.36\" style=\"stroke:#000000; stroke-width:4; stroke-opacity:0.25\"/>\n",
       "<line clip-path=\"url(#clip032)\" x1=\"600.21\" y1=\"1682.14\" x2=\"552.21\" y2=\"1682.14\" style=\"stroke:#000000; stroke-width:4; stroke-opacity:0.25\"/>\n",
       "<line clip-path=\"url(#clip032)\" x1=\"727.726\" y1=\"1680.09\" x2=\"679.726\" y2=\"1680.09\" style=\"stroke:#000000; stroke-width:4; stroke-opacity:0.25\"/>\n",
       "<line clip-path=\"url(#clip032)\" x1=\"727.726\" y1=\"1670.63\" x2=\"679.726\" y2=\"1670.63\" style=\"stroke:#000000; stroke-width:4; stroke-opacity:0.25\"/>\n",
       "<line clip-path=\"url(#clip032)\" x1=\"855.243\" y1=\"1657.56\" x2=\"807.243\" y2=\"1657.56\" style=\"stroke:#000000; stroke-width:4; stroke-opacity:0.25\"/>\n",
       "<line clip-path=\"url(#clip032)\" x1=\"855.243\" y1=\"1655.18\" x2=\"807.243\" y2=\"1655.18\" style=\"stroke:#000000; stroke-width:4; stroke-opacity:0.25\"/>\n",
       "<line clip-path=\"url(#clip032)\" x1=\"982.759\" y1=\"1643.49\" x2=\"934.759\" y2=\"1643.49\" style=\"stroke:#000000; stroke-width:4; stroke-opacity:0.25\"/>\n",
       "<line clip-path=\"url(#clip032)\" x1=\"982.759\" y1=\"1616.1\" x2=\"934.759\" y2=\"1616.1\" style=\"stroke:#000000; stroke-width:4; stroke-opacity:0.25\"/>\n",
       "<line clip-path=\"url(#clip032)\" x1=\"1110.28\" y1=\"1598.64\" x2=\"1062.28\" y2=\"1598.64\" style=\"stroke:#000000; stroke-width:4; stroke-opacity:0.25\"/>\n",
       "<line clip-path=\"url(#clip032)\" x1=\"1110.28\" y1=\"1592.6\" x2=\"1062.28\" y2=\"1592.6\" style=\"stroke:#000000; stroke-width:4; stroke-opacity:0.25\"/>\n",
       "<line clip-path=\"url(#clip032)\" x1=\"1237.79\" y1=\"1570.87\" x2=\"1189.79\" y2=\"1570.87\" style=\"stroke:#000000; stroke-width:4; stroke-opacity:0.25\"/>\n",
       "<line clip-path=\"url(#clip032)\" x1=\"1237.79\" y1=\"1536.84\" x2=\"1189.79\" y2=\"1536.84\" style=\"stroke:#000000; stroke-width:4; stroke-opacity:0.25\"/>\n",
       "<line clip-path=\"url(#clip032)\" x1=\"1365.31\" y1=\"1530.13\" x2=\"1317.31\" y2=\"1530.13\" style=\"stroke:#000000; stroke-width:4; stroke-opacity:0.25\"/>\n",
       "<line clip-path=\"url(#clip032)\" x1=\"1365.31\" y1=\"1478.87\" x2=\"1317.31\" y2=\"1478.87\" style=\"stroke:#000000; stroke-width:4; stroke-opacity:0.25\"/>\n",
       "<line clip-path=\"url(#clip032)\" x1=\"1492.83\" y1=\"1470.74\" x2=\"1444.83\" y2=\"1470.74\" style=\"stroke:#000000; stroke-width:4; stroke-opacity:0.25\"/>\n",
       "<line clip-path=\"url(#clip032)\" x1=\"1492.83\" y1=\"1424.34\" x2=\"1444.83\" y2=\"1424.34\" style=\"stroke:#000000; stroke-width:4; stroke-opacity:0.25\"/>\n",
       "<line clip-path=\"url(#clip032)\" x1=\"1620.34\" y1=\"1425.31\" x2=\"1572.34\" y2=\"1425.31\" style=\"stroke:#000000; stroke-width:4; stroke-opacity:0.25\"/>\n",
       "<line clip-path=\"url(#clip032)\" x1=\"1620.34\" y1=\"1340.68\" x2=\"1572.34\" y2=\"1340.68\" style=\"stroke:#000000; stroke-width:4; stroke-opacity:0.25\"/>\n",
       "<line clip-path=\"url(#clip032)\" x1=\"1747.86\" y1=\"1315.54\" x2=\"1699.86\" y2=\"1315.54\" style=\"stroke:#000000; stroke-width:4; stroke-opacity:0.25\"/>\n",
       "<line clip-path=\"url(#clip032)\" x1=\"1747.86\" y1=\"1306.17\" x2=\"1699.86\" y2=\"1306.17\" style=\"stroke:#000000; stroke-width:4; stroke-opacity:0.25\"/>\n",
       "<line clip-path=\"url(#clip032)\" x1=\"1875.37\" y1=\"1251.33\" x2=\"1827.37\" y2=\"1251.33\" style=\"stroke:#000000; stroke-width:4; stroke-opacity:0.25\"/>\n",
       "<line clip-path=\"url(#clip032)\" x1=\"1875.37\" y1=\"1210.92\" x2=\"1827.37\" y2=\"1210.92\" style=\"stroke:#000000; stroke-width:4; stroke-opacity:0.25\"/>\n",
       "<line clip-path=\"url(#clip032)\" x1=\"2002.89\" y1=\"1190.63\" x2=\"1954.89\" y2=\"1190.63\" style=\"stroke:#000000; stroke-width:4; stroke-opacity:0.25\"/>\n",
       "<line clip-path=\"url(#clip032)\" x1=\"2002.89\" y1=\"1096.95\" x2=\"1954.89\" y2=\"1096.95\" style=\"stroke:#000000; stroke-width:4; stroke-opacity:0.25\"/>\n",
       "<line clip-path=\"url(#clip032)\" x1=\"2130.41\" y1=\"1074.09\" x2=\"2082.41\" y2=\"1074.09\" style=\"stroke:#000000; stroke-width:4; stroke-opacity:0.25\"/>\n",
       "<line clip-path=\"url(#clip032)\" x1=\"2130.41\" y1=\"1023.65\" x2=\"2082.41\" y2=\"1023.65\" style=\"stroke:#000000; stroke-width:4; stroke-opacity:0.25\"/>\n",
       "<line clip-path=\"url(#clip032)\" x1=\"2257.92\" y1=\"957.65\" x2=\"2209.92\" y2=\"957.65\" style=\"stroke:#000000; stroke-width:4; stroke-opacity:0.25\"/>\n",
       "<line clip-path=\"url(#clip032)\" x1=\"2257.92\" y1=\"935.061\" x2=\"2209.92\" y2=\"935.061\" style=\"stroke:#000000; stroke-width:4; stroke-opacity:0.25\"/>\n",
       "<line clip-path=\"url(#clip032)\" x1=\"2385.44\" y1=\"843.576\" x2=\"2337.44\" y2=\"843.576\" style=\"stroke:#000000; stroke-width:4; stroke-opacity:0.25\"/>\n",
       "<line clip-path=\"url(#clip032)\" x1=\"2385.44\" y1=\"828.916\" x2=\"2337.44\" y2=\"828.916\" style=\"stroke:#000000; stroke-width:4; stroke-opacity:0.25\"/>\n",
       "<line clip-path=\"url(#clip032)\" x1=\"2512.96\" y1=\"720.948\" x2=\"2464.96\" y2=\"720.948\" style=\"stroke:#000000; stroke-width:4; stroke-opacity:0.25\"/>\n",
       "<line clip-path=\"url(#clip032)\" x1=\"2512.96\" y1=\"716.137\" x2=\"2464.96\" y2=\"716.137\" style=\"stroke:#000000; stroke-width:4; stroke-opacity:0.25\"/>\n",
       "<line clip-path=\"url(#clip032)\" x1=\"2640.47\" y1=\"605.145\" x2=\"2592.47\" y2=\"605.145\" style=\"stroke:#000000; stroke-width:4; stroke-opacity:0.25\"/>\n",
       "<line clip-path=\"url(#clip032)\" x1=\"2640.47\" y1=\"581.347\" x2=\"2592.47\" y2=\"581.347\" style=\"stroke:#000000; stroke-width:4; stroke-opacity:0.25\"/>\n",
       "<line clip-path=\"url(#clip032)\" x1=\"2767.99\" y1=\"465.478\" x2=\"2719.99\" y2=\"465.478\" style=\"stroke:#000000; stroke-width:4; stroke-opacity:0.25\"/>\n",
       "<line clip-path=\"url(#clip032)\" x1=\"2767.99\" y1=\"455.231\" x2=\"2719.99\" y2=\"455.231\" style=\"stroke:#000000; stroke-width:4; stroke-opacity:0.25\"/>\n",
       "<line clip-path=\"url(#clip032)\" x1=\"2895.51\" y1=\"327.882\" x2=\"2847.51\" y2=\"327.882\" style=\"stroke:#000000; stroke-width:4; stroke-opacity:0.25\"/>\n",
       "<line clip-path=\"url(#clip032)\" x1=\"2895.51\" y1=\"311.858\" x2=\"2847.51\" y2=\"311.858\" style=\"stroke:#000000; stroke-width:4; stroke-opacity:0.25\"/>\n",
       "<line clip-path=\"url(#clip032)\" x1=\"3023.02\" y1=\"187.296\" x2=\"2975.02\" y2=\"187.296\" style=\"stroke:#000000; stroke-width:4; stroke-opacity:0.25\"/>\n",
       "<line clip-path=\"url(#clip032)\" x1=\"3023.02\" y1=\"156.288\" x2=\"2975.02\" y2=\"156.288\" style=\"stroke:#000000; stroke-width:4; stroke-opacity:0.25\"/>\n",
       "<circle clip-path=\"url(#clip032)\" cx=\"448.693\" cy=\"1690.54\" r=\"21\" fill=\"#ff0000\" fill-rule=\"evenodd\" fill-opacity=\"0.25\" stroke=\"#000000\" stroke-opacity=\"0.25\" stroke-width=\"4\"/>\n",
       "<circle clip-path=\"url(#clip032)\" cx=\"576.21\" cy=\"1686.75\" r=\"21\" fill=\"#ff0000\" fill-rule=\"evenodd\" fill-opacity=\"0.25\" stroke=\"#000000\" stroke-opacity=\"0.25\" stroke-width=\"4\"/>\n",
       "<circle clip-path=\"url(#clip032)\" cx=\"703.726\" cy=\"1675.36\" r=\"21\" fill=\"#ff0000\" fill-rule=\"evenodd\" fill-opacity=\"0.25\" stroke=\"#000000\" stroke-opacity=\"0.25\" stroke-width=\"4\"/>\n",
       "<circle clip-path=\"url(#clip032)\" cx=\"831.243\" cy=\"1656.37\" r=\"21\" fill=\"#ff0000\" fill-rule=\"evenodd\" fill-opacity=\"0.25\" stroke=\"#000000\" stroke-opacity=\"0.25\" stroke-width=\"4\"/>\n",
       "<circle clip-path=\"url(#clip032)\" cx=\"958.759\" cy=\"1629.79\" r=\"21\" fill=\"#ff0000\" fill-rule=\"evenodd\" fill-opacity=\"0.25\" stroke=\"#000000\" stroke-opacity=\"0.25\" stroke-width=\"4\"/>\n",
       "<circle clip-path=\"url(#clip032)\" cx=\"1086.28\" cy=\"1595.62\" r=\"21\" fill=\"#ff0000\" fill-rule=\"evenodd\" fill-opacity=\"0.25\" stroke=\"#000000\" stroke-opacity=\"0.25\" stroke-width=\"4\"/>\n",
       "<circle clip-path=\"url(#clip032)\" cx=\"1213.79\" cy=\"1553.86\" r=\"21\" fill=\"#ff0000\" fill-rule=\"evenodd\" fill-opacity=\"0.25\" stroke=\"#000000\" stroke-opacity=\"0.25\" stroke-width=\"4\"/>\n",
       "<circle clip-path=\"url(#clip032)\" cx=\"1341.31\" cy=\"1504.5\" r=\"21\" fill=\"#ff0000\" fill-rule=\"evenodd\" fill-opacity=\"0.25\" stroke=\"#000000\" stroke-opacity=\"0.25\" stroke-width=\"4\"/>\n",
       "<circle clip-path=\"url(#clip032)\" cx=\"1468.83\" cy=\"1447.54\" r=\"21\" fill=\"#ff0000\" fill-rule=\"evenodd\" fill-opacity=\"0.25\" stroke=\"#000000\" stroke-opacity=\"0.25\" stroke-width=\"4\"/>\n",
       "<circle clip-path=\"url(#clip032)\" cx=\"1596.34\" cy=\"1383\" r=\"21\" fill=\"#ff0000\" fill-rule=\"evenodd\" fill-opacity=\"0.25\" stroke=\"#000000\" stroke-opacity=\"0.25\" stroke-width=\"4\"/>\n",
       "<circle clip-path=\"url(#clip032)\" cx=\"1723.86\" cy=\"1310.86\" r=\"21\" fill=\"#ff0000\" fill-rule=\"evenodd\" fill-opacity=\"0.25\" stroke=\"#000000\" stroke-opacity=\"0.25\" stroke-width=\"4\"/>\n",
       "<circle clip-path=\"url(#clip032)\" cx=\"1851.37\" cy=\"1231.12\" r=\"21\" fill=\"#ff0000\" fill-rule=\"evenodd\" fill-opacity=\"0.25\" stroke=\"#000000\" stroke-opacity=\"0.25\" stroke-width=\"4\"/>\n",
       "<circle clip-path=\"url(#clip032)\" cx=\"1978.89\" cy=\"1143.79\" r=\"21\" fill=\"#ff0000\" fill-rule=\"evenodd\" fill-opacity=\"0.25\" stroke=\"#000000\" stroke-opacity=\"0.25\" stroke-width=\"4\"/>\n",
       "<circle clip-path=\"url(#clip032)\" cx=\"2106.41\" cy=\"1048.87\" r=\"21\" fill=\"#ff0000\" fill-rule=\"evenodd\" fill-opacity=\"0.25\" stroke=\"#000000\" stroke-opacity=\"0.25\" stroke-width=\"4\"/>\n",
       "<circle clip-path=\"url(#clip032)\" cx=\"2233.92\" cy=\"946.355\" r=\"21\" fill=\"#ff0000\" fill-rule=\"evenodd\" fill-opacity=\"0.25\" stroke=\"#000000\" stroke-opacity=\"0.25\" stroke-width=\"4\"/>\n",
       "<circle clip-path=\"url(#clip032)\" cx=\"2361.44\" cy=\"836.246\" r=\"21\" fill=\"#ff0000\" fill-rule=\"evenodd\" fill-opacity=\"0.25\" stroke=\"#000000\" stroke-opacity=\"0.25\" stroke-width=\"4\"/>\n",
       "<circle clip-path=\"url(#clip032)\" cx=\"2488.96\" cy=\"718.543\" r=\"21\" fill=\"#ff0000\" fill-rule=\"evenodd\" fill-opacity=\"0.25\" stroke=\"#000000\" stroke-opacity=\"0.25\" stroke-width=\"4\"/>\n",
       "<circle clip-path=\"url(#clip032)\" cx=\"2616.47\" cy=\"593.246\" r=\"21\" fill=\"#ff0000\" fill-rule=\"evenodd\" fill-opacity=\"0.25\" stroke=\"#000000\" stroke-opacity=\"0.25\" stroke-width=\"4\"/>\n",
       "<circle clip-path=\"url(#clip032)\" cx=\"2743.99\" cy=\"460.355\" r=\"21\" fill=\"#ff0000\" fill-rule=\"evenodd\" fill-opacity=\"0.25\" stroke=\"#000000\" stroke-opacity=\"0.25\" stroke-width=\"4\"/>\n",
       "<circle clip-path=\"url(#clip032)\" cx=\"2871.51\" cy=\"319.87\" r=\"21\" fill=\"#ff0000\" fill-rule=\"evenodd\" fill-opacity=\"0.25\" stroke=\"#000000\" stroke-opacity=\"0.25\" stroke-width=\"4\"/>\n",
       "<circle clip-path=\"url(#clip032)\" cx=\"2999.02\" cy=\"171.792\" r=\"21\" fill=\"#ff0000\" fill-rule=\"evenodd\" fill-opacity=\"0.25\" stroke=\"#000000\" stroke-opacity=\"0.25\" stroke-width=\"4\"/>\n",
       "<polyline clip-path=\"url(#clip032)\" style=\"stroke:#0000ff; stroke-linecap:butt; stroke-linejoin:round; stroke-width:4; stroke-opacity:1; fill:none\" points=\"\n",
       "  448.693,1690.54 576.21,1686.75 703.726,1675.36 831.243,1656.37 958.759,1629.79 1086.28,1595.62 1213.79,1553.86 1341.31,1504.5 1468.83,1447.54 1596.34,1383 \n",
       "  1723.86,1310.86 1851.37,1231.12 1978.89,1143.79 2106.41,1048.87 2233.92,946.355 2361.44,836.246 2488.96,718.543 2616.47,593.246 2743.99,460.355 2871.51,319.87 \n",
       "  2999.02,171.792 \n",
       "  \"/>\n",
       "</svg>\n"
      ]
     },
     "execution_count": 12,
     "metadata": {},
     "output_type": "execute_result"
    }
   ],
   "source": [
    "# now add your code to make the plot\n",
    "scatter!(t, y, xerror = dt, yerror = dy, \n",
    "        markerstrokecolor = :black, \n",
    "        markercolor = :red, \n",
    "        markersize=6, \n",
    "        markeralpha=0.25, legend=false)\n",
    "\n",
    "plot!(t,y, color=:blue)\n",
    "\n",
    "plot!( xlabel = L\"t\\;(s)\", ylabel = L\"\\mathrm{fall\\;\\;distance\\;(m)}\", xguidefontsize=14, yguidefontsize=14)\n",
    "plot!(xtickfontsize=12, xtickfontfamily=:Times, ytickfontfamily=:Times, ytickfontsize=12)"
   ]
  },
  {
   "cell_type": "code",
   "execution_count": null,
   "metadata": {},
   "outputs": [],
   "source": []
  }
 ],
 "metadata": {
  "kernel_info": {
   "name": "python3"
  },
  "kernelspec": {
   "display_name": "Julia 1.6.1",
   "language": "julia",
   "name": "julia-1.6"
  },
  "language_info": {
   "file_extension": ".jl",
   "mimetype": "application/julia",
   "name": "julia",
   "version": "1.6.1"
  },
  "nteract": {
   "version": "0.28.0"
  }
 },
 "nbformat": 4,
 "nbformat_minor": 4
}
