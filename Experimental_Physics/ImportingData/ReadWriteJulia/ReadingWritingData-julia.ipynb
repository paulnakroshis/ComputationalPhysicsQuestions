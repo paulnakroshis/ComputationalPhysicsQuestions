{
 "cells": [
  {
   "cell_type": "markdown",
   "metadata": {
    "nteract": {
     "transient": {
      "deleting": false
     }
    }
   },
   "source": [
    "# Reading and Writing data files using CSV.jl"
   ]
  },
  {
   "cell_type": "markdown",
   "metadata": {},
   "source": [
    "<div class=\"alert alert-info\" role=\"alert\">\n",
    "Estimated time to complete: 1 -2 hours\n",
    "</div>"
   ]
  },
  {
   "cell_type": "code",
   "execution_count": 1,
   "metadata": {},
   "outputs": [],
   "source": [
    "using DelimitedFiles\n",
    "using DataFrames\n",
    "using CSV\n",
    "using Random\n",
    "using Distributions\n",
    "using Plots"
   ]
  },
  {
   "cell_type": "markdown",
   "metadata": {
    "nteract": {
     "transient": {
      "deleting": false
     }
    }
   },
   "source": [
    "## Making some fake data and writing it out to a data file\n",
    "### Create four arrays using Julia: <br>\n",
    "a. an array of times, $t$,  from 0.0 up to and including 10.0 seconds, in steps of 0.5 seconds<br>\n",
    "b. an array of Gaussian disributed time uncertainties, $\\delta t$, with $\\sigma = 0.2\\;\\mathrm{s}$. <br>\n",
    "c. an array of positions, $y$, described by $y = \\frac{1}{2} g t^2$, where $g = 9.80 \\pm 0.01\\;\\mathrm{m/s}^2$<br>\n",
    "d. an array of position uncertainties consistent with the time uncertainties, and consistent with the uncertainty on $g$. For this last part, show explicity in a markdown cell (using $\\LaTeX$ to typeset the mathematics) how to compute this uncertainty in $y$<br>"
   ]
  },
  {
   "cell_type": "code",
   "execution_count": 2,
   "metadata": {
    "nteract": {
     "transient": {
      "deleting": false
     }
    },
    "tags": []
   },
   "outputs": [],
   "source": [
    "# Your code here"
   ]
  },
  {
   "cell_type": "markdown",
   "metadata": {},
   "source": [
    "<div class=\"alert alert-success\" role=\"alert\">\n",
    "In this markdown cell, show explicity (using $\\LaTeX$ to typeset the mathematics) how to compute the uncertainty in $y$\n",
    "    \n",
    "    \n",
    "</div>"
   ]
  },
  {
   "cell_type": "code",
   "execution_count": 1,
   "metadata": {},
   "outputs": [],
   "source": [
    "# now compute δy (one line of code; be careful to use the dot syntax properly)\n",
    "#"
   ]
  },
  {
   "cell_type": "markdown",
   "metadata": {},
   "source": [
    "<div class=\"alert alert-success\" role=\"alert\">\n",
    "The fix for this is to compute $\\delta y$ forgoing the first element, and then manually inserting 0.0 for the first value of δy when done. You can accomplish this in two lines of code; in the second line, you will want to use the pushfirst! command to insert 0.0 for δy.\n",
    "</div>"
   ]
  },
  {
   "cell_type": "code",
   "execution_count": 6,
   "metadata": {},
   "outputs": [],
   "source": [
    "# your code here"
   ]
  },
  {
   "cell_type": "markdown",
   "metadata": {
    "jupyter": {
     "outputs_hidden": true,
     "source_hidden": false
    },
    "nteract": {
     "transient": {
      "deleting": false
     }
    }
   },
   "source": [
    "### Write out the data using DelimitedFiles\n",
    "Write the data out:<br>\n",
    "- in four columns labeled t, dt, y, dy\n",
    "- the first row is a header row\n",
    "- the second row specifies the units\n",
    "- the file to write should be called fake_free_fall.txt. \n",
    "- write all numerical values with only two decimal places\n",
    "\n",
    "See [DelimitedFiles.jl documentation](https://docs.julialang.org/en/v1/stdlib/DelimitedFiles/) for info about the function *writedlm(), and see [Storing output on a file](https://www.geeksforgeeks.org/storing-output-on-a-file-in-julia/) to read about the *write()* command; you will use this to write out the header lines.\n",
    "The first three lines of your file should look like"
   ]
  },
  {
   "cell_type": "markdown",
   "metadata": {},
   "source": [
    "| t   | dt |  y   | dy |\n",
    "| :--- | :-----------| :--- | :-----------|\n",
    "|   s     |      s       |    m     |      m       |\n",
    "| 0.00     | 0.10 | 0.00 | 0.00 |"
   ]
  },
  {
   "cell_type": "markdown",
   "metadata": {},
   "source": [
    "##### Other good references about file i/o\n",
    "[Introducing Julia: Working with text files](https://en.wikibooks.org/wiki/Introducing_Julia/Working_with_text_files) </br>\n",
    "[Julia Discourse: Reading text or csv files](https://discourse.julialang.org/t/reading-text-or-csv-files-and-assigning-values-to-variable-names/50610)</br>"
   ]
  },
  {
   "cell_type": "code",
   "execution_count": 7,
   "metadata": {},
   "outputs": [],
   "source": [
    "# your code here!\n"
   ]
  },
  {
   "cell_type": "markdown",
   "metadata": {},
   "source": [
    "<div class=\"alert alert-success\" role=\"alert\">\n",
    "Another option with Julia is to bundle the vectors into a dataframe and then use the CSV.jl package to write out the dataframe to a file. When you do this, the file will automatically have the column names as the first line in the file. I will leave this here as a piece of information for you; run the cell and then use jupyterlab's file browser to look at the file.\n",
    "</div>"
   ]
  },
  {
   "cell_type": "code",
   "execution_count": 8,
   "metadata": {},
   "outputs": [
    {
     "data": {
      "text/plain": [
       "\"fake_data.txt\""
      ]
     },
     "execution_count": 8,
     "metadata": {},
     "output_type": "execute_result"
    }
   ],
   "source": [
    "df = DataFrame(time=round.(t, digits=2), dt=δt, y=y, dy=δy )\n",
    "CSV.write(\"fake_data.txt\", round.(df, digits=2); delim=',')"
   ]
  },
  {
   "cell_type": "markdown",
   "metadata": {},
   "source": [
    "### Reading in a data file using readdlm()\n",
    "For straighforward data files (no missing values or strange type switching), readdlm() is a simple way to read in\n",
    "data that is saved as a text or a csv (comma separated value) file. This means that you could use a simple spreadsheet when\n",
    "manually recording data and save it as .txt or .csv and it will be easy to read. \n",
    "\n",
    "Use readdlm() to read the data file fake_free_fall.txt; read the data directly into an array called *data*.\n",
    "When you do read the file, you will see that you obtain the two header lines as well as the numerical data, \n",
    "so add a code cell after the initial import to extract only the needed numerical data into vectors named: t, dt, y, dy. "
   ]
  },
  {
   "cell_type": "code",
   "execution_count": 2,
   "metadata": {},
   "outputs": [],
   "source": [
    "#put your code here: (one line)\n"
   ]
  },
  {
   "cell_type": "code",
   "execution_count": 10,
   "metadata": {},
   "outputs": [],
   "source": [
    "# Extract the numerical values from each column into t, dt, y, dy:"
   ]
  },
  {
   "cell_type": "markdown",
   "metadata": {},
   "source": [
    "### Now plot the data\n",
    "Make a plot of $y$ vs $t$, and include error bars on each point. figure *size* 800 px by 500 px, and the xguidefontsize=14, xtickfontsize=12. Similarly for the y-axis labelsize and ticklabelsize. Use Julia's Plots package with the GR backend. You will want to use the Measures package to set a margin so that the axes labels are not cut off."
   ]
  },
  {
   "cell_type": "code",
   "execution_count": 12,
   "metadata": {},
   "outputs": [],
   "source": [
    "# needed imports and plot size setup for free:\n",
    "using Plots\n",
    "using LaTeXStrings\n",
    "using Measures\n",
    "gr()\n",
    "plot(size=(800,500), margin=5mm);  # remove the margin=5mm (and the semicolon) to see why I put this here."
   ]
  },
  {
   "cell_type": "code",
   "execution_count": 3,
   "metadata": {},
   "outputs": [],
   "source": [
    "# now add your code to make the plot\n"
   ]
  }
 ],
 "metadata": {
  "kernel_info": {
   "name": "python3"
  },
  "kernelspec": {
   "display_name": "Julia 1.6.1",
   "language": "julia",
   "name": "julia-1.6"
  },
  "language_info": {
   "file_extension": ".jl",
   "mimetype": "application/julia",
   "name": "julia",
   "version": "1.6.1"
  },
  "nteract": {
   "version": "0.28.0"
  }
 },
 "nbformat": 4,
 "nbformat_minor": 4
}
