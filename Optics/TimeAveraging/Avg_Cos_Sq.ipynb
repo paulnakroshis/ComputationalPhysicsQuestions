{
 "cells": [
  {
   "cell_type": "code",
   "execution_count": null,
   "metadata": {
    "nteract": {
     "transient": {
      "deleting": false
     }
    },
    "tags": []
   },
   "outputs": [],
   "source": [
    "using Plots\n",
    "gr()\n",
    "using LaTeXStrings\n",
    "using Latexify\n",
    "using Measures\n",
    "using QuadGK\n",
    "using SpecialFunctions"
   ]
  },
  {
   "cell_type": "markdown",
   "metadata": {},
   "source": [
    "# Time averaging of functions\n",
    "### Time to complete (estimate): 1-2 hours\n",
    "#### Keywords: Julia, time average, sinc, sphereical Bessel function, j0, optics, numerical integration\n",
    "\n",
    "In our last problem set, you were asked to compute (analytically) the time average of \n",
    "$\\cos^2(\\omega t)$, using Hecht's symmetrical time average of a function:\n",
    "\n",
    "$$\\langle\\cos^2\\omega t\\rangle_T = \\frac{1}{T} \\int_{t-\\frac{T}{2}}^{t+\\frac{T}{2}} \\cos^2(\\omega t) \\;dt $$\n",
    "\n",
    "After a little bit of work, you found the time average to be given by \n",
    "\n",
    "$$\\langle\\cos^2\\omega t\\rangle_T = \\frac{1}{2}\\left[ 1 + \\cos(2\\omega t)\\; *\\mathrm{sinc}(\\omega T)\\right] $$\n",
    "\n",
    "This assignment is designed to to get more practice with plotting in Julia, to explore the properties of the sinc function - also known as the [Spherical Bessel function of the first kind, $j_0(x)$](https://en.wikipedia.org/wiki/Bessel_function#Spherical_Bessel_functions), and to fully understand the result you computed for the time average of the square of the cosine function. "
   ]
  },
  {
   "cell_type": "markdown",
   "metadata": {},
   "source": [
    "## Part 1: Properties of $j_0(x)$\n",
    "The sinc function is built into Julia (as you might expect, it is called sinc); however (and this took me several hours to notice!) julia's definition is different than the mathematical definition that physicists typically use! The definition of the sinc function we use in class (and Hecht uses) is called the *unnormalized* sinc function:\n",
    "$$ \\mathrm{sinc}(x) = \\frac{\\sin x}{x},$$ \n",
    "whereas Julia uses what is refered to as the *normalized* sinc function:\n",
    "$$ \\mathrm{sinc}(x) = \\frac{\\sin(\\pi x)}{\\pi x}. $$\n",
    "The normalization causes the definite integral of the function over the real numbers to equal 1 (whereas the same integral of the unnormalized sinc function has a value of π). \n",
    "\n",
    "The  unnormalized sinc function is also known as the Spherical Bessel function $j_0(x)$. This function is contained in the library SpecialFunctions.jl as *sphericalbesselj(0,x)*. Everything in this assignment should either be completed using the sphericalbesselj(0,x) or by defining your own unnormalized sinc function as $\\mathrm{sincu}(x) = \\mathrm{sinc}(x/\\pi)$.\n",
    "\n",
    "In the cell below, define the function sincu(x):"
   ]
  },
  {
   "cell_type": "code",
   "execution_count": null,
   "metadata": {},
   "outputs": [],
   "source": []
  },
  {
   "cell_type": "markdown",
   "metadata": {},
   "source": [
    "For convienence, let's use $\\omega = 2\\pi$ in this notebook. This corresponds to a period of 1.0 seconds (and of course, a frequency of 1 Hz). In the cell below, define the constant $\\omega$, and make a plot of $\\mathrm{sincu}(\\omega T)$ for values of $T$ between -10 and +10. (Remember to use the . notation to vectorize the sincu function.)"
   ]
  },
  {
   "cell_type": "code",
   "execution_count": null,
   "metadata": {},
   "outputs": [],
   "source": []
  },
  {
   "cell_type": "markdown",
   "metadata": {},
   "source": [
    "In this cell, summarize what qualitative and quantitative features you see in this sinc function.\n",
    "\n"
   ]
  },
  {
   "cell_type": "markdown",
   "metadata": {},
   "source": [
    "## Part 2: Visualizing the time average\n",
    "Now define a function called cos_sqr_avg(t,T). In order to visually understand the time average, should you make a plot of \n",
    "cos_sqr_avg as a function of $t$ or as a function of $T$? You might want to try both and then explain to me which one makes more sense to plot in terms of visually explaining the meaning of the result you analytically computed. Thinking about what you expect the average of $\\cos^2(\\omega t)$ to approach will help you think about this. \n",
    "\n",
    "In the cell below, define your function and make a well labeled plot. "
   ]
  },
  {
   "cell_type": "code",
   "execution_count": null,
   "metadata": {
    "nteract": {
     "transient": {
      "deleting": false
     }
    },
    "tags": []
   },
   "outputs": [],
   "source": []
  },
  {
   "cell_type": "markdown",
   "metadata": {},
   "source": [
    "## Part 3: Time averaging any function by numerical means\n",
    "The previous portion relied upon us knowing the analytical solution to the time average. \n",
    "However, it's not a difficult proposition to perform the averaging numerically. To do so, I'll lead you through the steps\n",
    "needed to accomplish this. \n",
    "\n",
    "Of course, one could write a custom numerical integration function, but numerical integration of a one-dimensional function\n",
    "is a commonly needed routine, and Julia has several packages available to do this. The easiest to use in our case \n",
    "is [QuadGK](https://github.com/JuliaMath/QuadGK.jl) and the first cell in this notebook loads this package. \n",
    "\n",
    "### Using QuadGK to integrate a function\n",
    "See the documentation for [QuadGK](https://github.com/JuliaMath/QuadGK.jl) and in the cell below, define a function\n",
    "$f(x) = x^2$, and numerically compute the integral from $x=0$ to $x=3$ (and verifty you obtain the correct result). Notice\n",
    "in the documentation that quadgk() returns a value and an error as a tuple; you'll want to *extract the first element of this tuple* as the \n",
    "value for the integral. This can be accomplished in only two lines of code! "
   ]
  },
  {
   "cell_type": "code",
   "execution_count": null,
   "metadata": {},
   "outputs": [],
   "source": []
  },
  {
   "cell_type": "markdown",
   "metadata": {},
   "source": [
    "### Write a function to numerically compute the time average\n",
    "In the cell below, write a function called *time_average* which takes as input (a) the name of a user-defined function, f, \n",
    "(b) the point in time, t, about which to average the function, and (c) the length in time, $\\delta T$, of the averaging interval. \n",
    "This can achieved in 1 line of code!"
   ]
  },
  {
   "cell_type": "code",
   "execution_count": null,
   "metadata": {},
   "outputs": [],
   "source": []
  },
  {
   "cell_type": "markdown",
   "metadata": {},
   "source": [
    "### Write a function to plot the time average\n",
    "Now write a function called *plot_time_average* which takes as input (a) the name of the function to average, f, (b) the point in time, t, about which to compute the average, and (c) a vector of averaging times, $\\Delta T$,  to pass to the *time_average* function.\n",
    "Since  *time_average* was defined to compute the average for a single value of averaging interval $\\delta T$, you simply have to use the  . notation to  instantly vectorize the *time_average* function."
   ]
  },
  {
   "cell_type": "code",
   "execution_count": null,
   "metadata": {},
   "outputs": [],
   "source": []
  },
  {
   "cell_type": "markdown",
   "metadata": {},
   "source": [
    "#### Test your code for accuracy\n",
    "An important part of computing, is to make sure your code gives correct answers in known cases. \n",
    "For the following functions, compute the time average (analytically) for the time $t$ and averaging interval $\\delta T$:\n",
    "\n",
    "a. $f(t) = 1.0$ about $t=0$ and an averaging time $\\delta T = 2.0$ <br>\n",
    "b.  $f(t) = t$ about $t=0$ and an averaging time $\\delta T = 2.0$ <br>\n",
    "c.  $f(x) = \\sin(2\\pi t)$ about $t=0.25$ and an averaging time $\\delta T =0.5 $ <br>\n",
    "d. $f(x) = \\sin(2\\pi t)$ about $t=0.5$ and an averaging time $\\delta T =1.0 $ <br>\n",
    "\n",
    "Cases (a) and (b), and (d) can be computed by inspection (especially if you draw a quick plot of the functions and show the center point and the averaging interval; \n",
    "case (c) will require you to compute the integral analytically. In the cell below, use markdown and $\\LaTeX$ to convince me of what you expect to find\n",
    "when we call *time_average*."
   ]
  },
  {
   "cell_type": "markdown",
   "metadata": {},
   "source": []
  },
  {
   "cell_type": "markdown",
   "metadata": {},
   "source": [
    "#### Now test *time_average* to check that it returns the correct values\n",
    "In the code cell below, call the *time_average* function to check your predictions in cases (a), (b), (c), and (d). "
   ]
  },
  {
   "cell_type": "code",
   "execution_count": null,
   "metadata": {},
   "outputs": [],
   "source": []
  },
  {
   "cell_type": "markdown",
   "metadata": {},
   "source": [
    "### Now that your code passes tests, use your function *plot_time_average* to check your analytical result. \n",
    "In the cell below, use your code to plot the time average of $\\cos^2(\\omega t)$ and check that it agrees with your analytical result previouslty plotted. \n",
    "A good way to demonstrate this is to plot the analytical result and the numberical result on the same plot. As a matter of fact, this is how I discovered that\n",
    "Julia's definition of the sinc function is not what I expected. "
   ]
  },
  {
   "cell_type": "code",
   "execution_count": null,
   "metadata": {},
   "outputs": [],
   "source": []
  }
 ],
 "metadata": {
  "kernel_info": {
   "name": "python3"
  },
  "kernelspec": {
   "display_name": "Julia 1.7.2",
   "language": "julia",
   "name": "julia-1.7"
  },
  "language_info": {
   "file_extension": ".jl",
   "mimetype": "application/julia",
   "name": "julia",
   "version": "1.7.2"
  },
  "nteract": {
   "version": "0.28.0"
  }
 },
 "nbformat": 4,
 "nbformat_minor": 4
}
