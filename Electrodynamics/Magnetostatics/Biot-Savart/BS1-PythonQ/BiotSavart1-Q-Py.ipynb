{
 "cells": [
  {
   "cell_type": "markdown",
   "id": "e4746531",
   "metadata": {},
   "source": [
    "# Biot Savart Law I\n",
    "In this exercise, you will be computing the magnetic field for a wire loop of radius $R$ carrying current $I$, both on the axis of symmetry and off the axis of symmetry. The former can be computed analytically with relative ease, and although the latter can also, the solution involves the complete elliptic functions of the first and second kind (you'll solve this in graduate school should you choose to continue your study of physics). \n",
    "\n",
    "## Theory: Derivation of the on-axis field\n",
    "For the first part of this exercise, we want you to use the Biot-Savart Law\n",
    "$$ d\\vec{B} = \\frac{\\mu_o I}{4\\pi} \\frac{\\vec{dl}\\times\\hat{r}}{r^2} $$\n",
    "to compute the magnetic field on the axis of symmetry of a loop with radius $R$ a distance $z$ above the center of the loop; the relevant geometry is shown in the figure below. \n",
    "\n",
    "\n",
    "<center><img src=\"BS1-Images/SingleLoop.png\" width=\"500\" ></center>\n",
    " \n",
    "Using a markdown cell explain using $\\LaTeX$ how to use the Biot-Savart Law to compute the magnetic field on the z-axis. Explain your thinking clearly, and include as the last item, the expression for $B(z)$. "
   ]
  },
  {
   "cell_type": "markdown",
   "id": "4c2572f7-5b92-438b-a2f9-cfe9ac7caed2",
   "metadata": {},
   "source": []
  },
  {
   "cell_type": "markdown",
   "id": "0a14d33d",
   "metadata": {},
   "source": [
    "## Numerical: Computation of the on-axis magnetic field\n",
    "Your tasks, using Julia are to write a function which computes the on-axis magnetic field in nanoTesla, and make sure to address each of the points (a through e)\n",
    "below:\n",
    "\n",
    "    a. use numPy's cross() function to compute the cross product which appears in the Biot-Savart Law, \n",
    "    b. include a triple quoted docstring that describes the function, \n",
    "    c. include a test of the function for $z=0$, and make sure it returns the expected value (hint: what is the theoretical value?) \n",
    "    d. produce a scatter plot of the field for a loop of radius 1.0 meter carrying a current of 1.0 Ampere. Plot the magnetic field in nT for z values from -5 to +5 meters. \n",
    "    e. plot the theoretical curve for B(z) over the same range. \n",
    "    \n",
    "### Steps to lead you through the computation\n",
    "#### The source: Idl\n",
    "In order to compute the magnetic field for a small element of current $I\\vec{dl}$, we need to write down the $(x,y,z)$ components of this vector in terms of \n",
    "the loop radius, $R$, the angular position of the segment $\\phi$, and the differential length of the segment. So first, looking at the diagram below, explain in a markdown cell (using $\\LaTeX$ to write the mathematics) how to write $I\\vec{dl}$ as a vector with $x$, $y$, and $z$ components; your answer should be in terms of $R$, $\\phi$, $d\\phi$, and $I$. \n",
    "\n",
    " <center><img width=\"300\" src=\"BS1-Images/CurrentLoop2d.png\"></center>\n"
   ]
  },
  {
   "cell_type": "markdown",
   "id": "a0151a7b",
   "metadata": {},
   "source": [
    "$\\color{red}{\\text{Put your explanation here; you should draw a figure using draw.io to help support your thinking.}}$"
   ]
  },
  {
   "cell_type": "markdown",
   "id": "37ac056e",
   "metadata": {},
   "source": [
    "<div class=\"alert alert-block alert-success\">\n",
    "\n",
    "    \n",
    "</div>"
   ]
  },
  {
   "cell_type": "markdown",
   "id": "eb5c82a3",
   "metadata": {},
   "source": [
    "#### The source to field point vector: $\\vec{r}$\n",
    "\n",
    "Now, use a markdown cell to describe the source to field point vector $r$. This vector points *from* the source of the magnetic field ($I\\vec{dl}$) *to* the field point on the $z$ axis (as shown in the first figure). This vector will have components in all three coordinate directions. Write down this vector $\\vec{r}$ in the markdown cell below, and convince the reader that you have the correct expression by picking several special cases for the source and field point where you know *a priori* what $\\vec{r}$ should be. "
   ]
  },
  {
   "cell_type": "markdown",
   "id": "f41870c2",
   "metadata": {},
   "source": [
    "$\\color{red}{\\text{Put your explanation here}}$"
   ]
  },
  {
   "cell_type": "markdown",
   "id": "b6e7273b",
   "metadata": {},
   "source": [
    "<div class=\"alert alert-block alert-success\">\n",
    "\n",
    "</div>"
   ]
  },
  {
   "cell_type": "markdown",
   "id": "a1de2085",
   "metadata": {},
   "source": [
    "#### Putting it into code!\n",
    "Now that you have the 3D vectors $I\\vec{dl}$ and $\\vec{r}$, write a function called *b_field* which takes as arguments $I$, $R$, $z$, and $\\delta\\phi$, and returns the three components of the magnetic field at a point $z$ above the center of the loop. We assume that the current is CCW when viewed from $+z$ (as the figures all show). Be careful about the limits of your integration when you compute $\\vec{B}$. After writing the code in the cell below, answer (a) through (c) using code and markdown cells. We'll get to (d) and (e) after you complete (a) through (c). NumPy has a function called *cross(a,b)* which computes the cross product of two vectors a and b."
   ]
  },
  {
   "cell_type": "code",
   "execution_count": null,
   "id": "9b6b847a",
   "metadata": {},
   "outputs": [],
   "source": [
    "# put your code here\n",
    "import numpy as np\n",
    "import matplotlib.pyplot as plt\n",
    "\n",
    "def b_field(I, R, z, δϕ):\n",
    "    \n",
    "    \n",
    "    return B\n",
    " "
   ]
  },
  {
   "cell_type": "markdown",
   "id": "1bc76c77",
   "metadata": {},
   "source": [
    "$\\color{red}{\\text{Use a series of code and markdown cells to test your code here.}}$"
   ]
  },
  {
   "cell_type": "markdown",
   "id": "721883ff",
   "metadata": {},
   "source": [
    "<div class=\"alert alert-block alert-success\">\n",
    "Now some tests of our b_field function:\n",
    "</div>"
   ]
  },
  {
   "cell_type": "markdown",
   "id": "537aa3af",
   "metadata": {},
   "source": [
    "### Finishing up: Now compute the magnetic field on axis and compare to theory.\n",
    "Now that you previously derived the theoretical expression for $B(z)$ and the computational solution, \n",
    "\n",
    "Define a function called b_theory which computes the theoretical value of B for a given input I, R, and z. </br>\n",
    "Test the function to make sure it gives reasonable values.</br>\n",
    "Compute and plot the z-component of the magnetic field from $z = -5\\;\\mathrm{m}$ to $+5\\;\\mathrm{m}$, both theoretically and via simulation (plot as a scatter plot of points). Remember to label your axes!"
   ]
  },
  {
   "cell_type": "code",
   "execution_count": null,
   "id": "6589df87",
   "metadata": {},
   "outputs": [],
   "source": []
  },
  {
   "cell_type": "code",
   "execution_count": null,
   "id": "749cf75a",
   "metadata": {},
   "outputs": [],
   "source": [
    "def b_theory(I,R,z):\n",
    "    \n",
    "    return B"
   ]
  },
  {
   "cell_type": "code",
   "execution_count": null,
   "id": "377e8b92",
   "metadata": {},
   "outputs": [],
   "source": [
    "# Test your code here\n"
   ]
  },
  {
   "cell_type": "markdown",
   "id": "818b5bcb-38a0-468c-9aef-7e1e6482e9d0",
   "metadata": {},
   "source": [
    "Compute the magnetic field via numerical simulation and the theoretical value:"
   ]
  },
  {
   "cell_type": "code",
   "execution_count": null,
   "id": "3f2d8d52-a5ca-4b5e-b7aa-9a1d56867ff5",
   "metadata": {},
   "outputs": [],
   "source": []
  },
  {
   "cell_type": "markdown",
   "id": "97e4c4ce-5767-4355-80c4-7a7aaa12c4e6",
   "metadata": {},
   "source": [
    "Set up the plot parameters and plot the result:"
   ]
  },
  {
   "cell_type": "code",
   "execution_count": null,
   "id": "bbdbdc8b-e6b8-4381-ac31-9c6f6fc7d200",
   "metadata": {},
   "outputs": [],
   "source": [
    "# use these plot parameters\n",
    "plt.rcParams[\"figure.figsize\"] = (12,7)\n",
    "\n",
    "plt.rcParams.update({\n",
    "    \"text.usetex\": True,\n",
    "    \"font.family\": \"serif\",\n",
    "    \"font.serif\": [\"Times\"],\n",
    "})\n",
    "plt.xticks(fontsize=16)\n",
    "plt.yticks(fontsize=16)\n"
   ]
  }
 ],
 "metadata": {
  "kernelspec": {
   "display_name": "Python 3",
   "language": "python",
   "name": "python3"
  },
  "language_info": {
   "codemirror_mode": {
    "name": "ipython",
    "version": 3
   },
   "file_extension": ".py",
   "mimetype": "text/x-python",
   "name": "python",
   "nbconvert_exporter": "python",
   "pygments_lexer": "ipython3",
   "version": "3.8.5"
  }
 },
 "nbformat": 4,
 "nbformat_minor": 5
}
