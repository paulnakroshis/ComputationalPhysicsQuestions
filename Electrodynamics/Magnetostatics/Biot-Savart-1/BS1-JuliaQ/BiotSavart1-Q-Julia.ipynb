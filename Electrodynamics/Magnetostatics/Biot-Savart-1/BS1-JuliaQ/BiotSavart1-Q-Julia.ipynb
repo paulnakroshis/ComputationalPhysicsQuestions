{
 "cells": [
  {
   "cell_type": "markdown",
   "id": "16e5179c-d0b2-46c5-8d2e-6f86570bc54e",
   "metadata": {},
   "source": [
    "# Biot Savart Law I: \n",
    "## On-axis field of a current loop\n",
    "In this exercise, you will be computing the magnetic field for a wire loop of radius $R$ carrying current $I$, both on the axis of symmetry and off the axis of symmetry. The former can be computed analytically with relative ease, and although the latter can also, the solution involves the complete elliptic functions of the first and second kind (you'll solve this in graduate school should you choose to continue your study of physics). "
   ]
  },
  {
   "cell_type": "markdown",
   "id": "ba88c419-699c-4000-8560-ed03c54435cc",
   "metadata": {},
   "source": [
    "<div class=\"alert alert-info\" role=\"alert\">\n",
    "Estimated time to complete: 2-4 hours\n",
    "</div>"
   ]
  },
  {
   "cell_type": "markdown",
   "id": "ed05ee51-8a66-495d-a002-fea01ffc976b",
   "metadata": {},
   "source": [
    "## Theory: Derivation of the on-axis field\n",
    "For the first part of this exercise, we want you to use the Biot-Savart Law\n",
    "$$ d\\vec{B} = \\frac{\\mu_o I}{4\\pi} \\frac{\\vec{dl}\\times\\hat{r}}{r^2} $$\n",
    "to compute the magnetic field on the axis of symmetry of a loop with radius $R$ a distance $z$ above the center of the loop; the relevant geometry is shown in the figure below. "
   ]
  },
  {
   "cell_type": "markdown",
   "id": "90cb1006",
   "metadata": {},
   "source": [
    "<center><img src=\"../BS1-Images/SingleLoop.png\" width=\"500\" ></center>"
   ]
  },
  {
   "cell_type": "markdown",
   "id": "eb0e9324",
   "metadata": {},
   "source": [
    "Using a markdown cell explain using $\\LaTeX$ how to use the Biot-Savart Law to compute the magnetic field on the z-axis. Explain your thinking clearly, and include as the last item, the expression for $B(z)$. "
   ]
  },
  {
   "cell_type": "markdown",
   "id": "5db2b410",
   "metadata": {},
   "source": [
    "<div class=\"alert alert-block alert-success\">\n",
    "\n",
    "</div>"
   ]
  },
  {
   "cell_type": "markdown",
   "id": "7260826d",
   "metadata": {},
   "source": [
    "## Numerical: Computation of the on-axis magnetic field\n",
    "Your tasks, using Julia are to write a function which computes the on-axis magnetic field in nanoTesla, and make sure to address each of the points (a through e)\n",
    "below:\n",
    "\n",
    "    a. use the LinearAlgebra package to compute the cross product which appears in the Biot-Savart Law, \n",
    "    b. include a triple quoted docstring that describes the function, \n",
    "    c. include a test of the function for $z=0$, and make sure it returns the expected value (hint: what is the theoretical value?) \n",
    "    d. produce a scatter plot of the field for a loop of radius 1.0 meter carrying a current of 1.0 Ampere. Plot the magnetic field in nT for z values from -5 to +5 meters. \n",
    "    e. plot the theoretical curve for B(z) over the same range. \n",
    "    \n",
    "### Steps to lead you through the computation\n",
    "#### The source: Idl\n",
    "In order to compute the magnetic field for a small element of current $I\\vec{dl}$, we need to write down the $(x,y,z)$ components of this vector in terms of \n",
    "the loop radius, $R$, the angular position of the segment $\\phi$, and the differential length of the segment. So first, looking at the diagram below, explain in a markdown cell (using $\\LaTeX$ to write the mathematics) how to write $I\\vec{dl}$ as a vector with $x$, $y$, and $z$ components; your answer should be in terms of $R$, $\\phi$, $d\\phi$, and $I$. "
   ]
  },
  {
   "cell_type": "markdown",
   "id": "e2c74998",
   "metadata": {},
   "source": [
    "<center><img src=\"../BS1-Images/CurrentLoop2d.png\" width=\"300\" ></center>"
   ]
  },
  {
   "cell_type": "markdown",
   "id": "8108ff60",
   "metadata": {},
   "source": [
    "<div class=\"alert alert-block alert-success\">\n",
    "In your explanation, you should draw a figure to help explain your thinking. I suggest the app draw.io\n",
    "    \n",
    "</div>"
   ]
  },
  {
   "cell_type": "markdown",
   "id": "21ad378d",
   "metadata": {},
   "source": [
    "#### The source to field point vector: $\\vec{r}$\n",
    "\n",
    "Now, use a markdown cell to describe the source to field point vector $r$. This vector points *from* the source of the magnetic field ($I\\vec{dl}$) *to* the field point on the $z$ axis (as shown in the first figure). This vector will have components in all three coordinate directions. Write down this vector $\\vec{r}$ in the markdown cell below, and convince the reader that you have the correct expression by picking several special cases for the source and field point where you know *a priori* what $\\vec{r}$ should be. "
   ]
  },
  {
   "cell_type": "markdown",
   "id": "1548f646",
   "metadata": {},
   "source": [
    "<div class=\"alert alert-block alert-success\">\n",
    "Put your explanation here\n",
    "</div>"
   ]
  },
  {
   "cell_type": "markdown",
   "id": "158936f3",
   "metadata": {},
   "source": [
    "#### Putting it into code!\n",
    "Now that you have the 3D vectors $I\\vec{dl}$ and $\\vec{r}$, write a function called *b_field* which takes as arguments $I$, $R$, $z$, and $\\delta\\phi$, and returns the three components of the magnetic field at a point $z$ above the center of the loop. We assume that the current is CCW when viewed from $+z$ (as the figures all show). **Be careful about the limits of your integration** when you compute $\\vec{B}$. After writing the code in the cell below, answer (a) through (c) using code and markdown cells. We'll get to (d) and (e) after you complete (a) through (c). Julia, has a package called LinearAlgebra and within this package is the function cross(a,b) which computes the cross product of two vectors a and b."
   ]
  },
  {
   "cell_type": "code",
   "execution_count": 1,
   "id": "84250b62",
   "metadata": {},
   "outputs": [],
   "source": [
    "using LinearAlgebra\n",
    "using Plots\n",
    "using LaTeXStrings\n",
    "# YOUR CODE HERE!"
   ]
  },
  {
   "cell_type": "markdown",
   "id": "9badb0fe",
   "metadata": {},
   "source": [
    "<div class=\"alert alert-block alert-success\">\n",
    "Use a series of markdown and code cells to test your b_field function:\n",
    "</div>"
   ]
  },
  {
   "cell_type": "markdown",
   "id": "6790b515",
   "metadata": {},
   "source": [
    "#### Tests of the b_field function\n"
   ]
  },
  {
   "cell_type": "code",
   "execution_count": null,
   "id": "4d45eab7",
   "metadata": {},
   "outputs": [],
   "source": []
  },
  {
   "cell_type": "markdown",
   "id": "358acafc",
   "metadata": {},
   "source": [
    "### Finishing up: Now compute the magnetic field on axis and compare to theory.\n",
    "Now that you previously derived the theoretical expression for $B(z)$ and the computational solution, \n",
    "\n",
    "Define a function called b_theory which computes the theoretical value of B for a given input I, R, and z. </br>\n",
    "Test the function to make sure it gives reasonable values.</br>\n",
    "Compute and plot the z-component of the magnetic field from $z = -5\\;\\mathrm{m}$ to $+5\\;\\mathrm{m}$, both theoretically and via simulation (plot as a scatter plot of points). Remember to label your axes!"
   ]
  },
  {
   "cell_type": "code",
   "execution_count": 2,
   "id": "50f8399f",
   "metadata": {},
   "outputs": [],
   "source": [
    "function b_theory(I,R,z)\n",
    "    \n",
    "end"
   ]
  },
  {
   "cell_type": "code",
   "execution_count": 3,
   "id": "afd7af32",
   "metadata": {},
   "outputs": [],
   "source": [
    "# YOUR TESTS HERE --- convince the reader this function gives the correct answer!\n"
   ]
  },
  {
   "cell_type": "markdown",
   "id": "a44e4972-78a4-4ba1-94e1-a6c7b725de67",
   "metadata": {},
   "source": [
    "Compute the magnetic field via numerical simulation and the theoretical method, and compare their values:"
   ]
  },
  {
   "cell_type": "code",
   "execution_count": null,
   "id": "e11c998a-9364-46f7-bda7-cf1caf7a439f",
   "metadata": {},
   "outputs": [],
   "source": []
  },
  {
   "cell_type": "markdown",
   "id": "c449f6dc",
   "metadata": {},
   "source": [
    "Now plot theory versus numerical computation:"
   ]
  },
  {
   "cell_type": "code",
   "execution_count": 4,
   "id": "683b0a8b",
   "metadata": {},
   "outputs": [],
   "source": [
    "# YOUR CODE HERE"
   ]
  }
 ],
 "metadata": {
  "kernelspec": {
   "display_name": "Julia 1.6.1",
   "language": "julia",
   "name": "julia-1.6"
  },
  "language_info": {
   "file_extension": ".jl",
   "mimetype": "application/julia",
   "name": "julia",
   "version": "1.6.1"
  }
 },
 "nbformat": 4,
 "nbformat_minor": 5
}
