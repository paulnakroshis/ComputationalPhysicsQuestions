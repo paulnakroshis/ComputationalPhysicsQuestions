{
 "cells": [
  {
   "cell_type": "markdown",
   "metadata": {},
   "source": [
    "# Angle between body diagonals of a rectangular solid"
   ]
  },
  {
   "cell_type": "markdown",
   "metadata": {},
   "source": [
    "<div class=\"alert alert-info\" role=\"alert\">\n",
    "Estimated time to complete: 1 hour</br>\n",
    "This notebook uses Julia; change the kernel to python if you prefer.</br>\n",
    "Vectors are easier to deal with in Julia (they are part of the base functionality);<br>\n",
    "in python, you will have to import and use numpy to deal with vectors.\n",
    "</div>"
   ]
  },
  {
   "cell_type": "markdown",
   "metadata": {},
   "source": [
    "You are handed a rectangular solid with sides of length 1, 2, and 3 cm as pictured below:\n",
    "\n",
    " <img width=\"400\" src=\"RectangularSolid.png\">\n",
    " \n",
    "Find the angles in degrees beween the body diagonals of the rectangular solid by following the following steps."
   ]
  },
  {
   "cell_type": "markdown",
   "metadata": {},
   "source": [
    "## Step 0:\n",
    "Put all needed import statements in the cell below:"
   ]
  },
  {
   "cell_type": "code",
   "execution_count": null,
   "metadata": {},
   "outputs": [],
   "source": []
  },
  {
   "cell_type": "markdown",
   "metadata": {},
   "source": [
    "## Step 1\n",
    "Define four vectors, $v1, v2, v3, v4$, one for each of the four body diagonals.<br>\n",
    "Then print out each of the four body diagonal vectors. Define<br>\n",
    "your vectors such that the x-component of each is +3."
   ]
  },
  {
   "cell_type": "code",
   "execution_count": null,
   "metadata": {},
   "outputs": [],
   "source": []
  },
  {
   "cell_type": "markdown",
   "metadata": {},
   "source": [
    "## Step 2\n",
    "Now write a function called *angles* which takes as input, two vectors, and returns the smallest angle \n",
    "between the vectors. Return this as an angle in degrees rounded to **three** decimal places. "
   ]
  },
  {
   "cell_type": "code",
   "execution_count": null,
   "metadata": {},
   "outputs": [],
   "source": []
  },
  {
   "cell_type": "markdown",
   "metadata": {},
   "source": [
    "Test this function by using $a = [3,1,2]$ and $b = [3, 1, -2]$, and print out the result\n",
    "(you should find that it is equal 64.623$^o$)."
   ]
  },
  {
   "cell_type": "code",
   "execution_count": null,
   "metadata": {},
   "outputs": [],
   "source": []
  },
  {
   "cell_type": "markdown",
   "metadata": {},
   "source": [
    "## Step 3\n",
    "Now define an array $x$ which is an array whose elements are the vectors $v1, v2, v3, v4$.\n",
    "Then write a function called *find_angles* which takes as input $x$ and \n",
    "computes all the possible angles and returns only the unique values\n",
    "(i.e. it doesn't return duplicate values)."
   ]
  },
  {
   "cell_type": "code",
   "execution_count": null,
   "metadata": {},
   "outputs": [],
   "source": []
  },
  {
   "cell_type": "markdown",
   "metadata": {},
   "source": [
    "Call this function to see the list of unique body diagonal angles."
   ]
  },
  {
   "cell_type": "markdown",
   "metadata": {},
   "source": []
  }
 ],
 "metadata": {
  "kernelspec": {
   "display_name": "Julia 1.6.1",
   "language": "julia",
   "name": "julia-1.6"
  },
  "language_info": {
   "file_extension": ".jl",
   "mimetype": "application/julia",
   "name": "julia",
   "version": "1.6.1"
  }
 },
 "nbformat": 4,
 "nbformat_minor": 4
}
